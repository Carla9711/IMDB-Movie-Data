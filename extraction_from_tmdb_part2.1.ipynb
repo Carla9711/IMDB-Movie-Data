{
 "cells": [
  {
   "cell_type": "code",
   "execution_count": 1,
   "id": "1194c7f2-c030-4821-9033-3f8d685d4d0b",
   "metadata": {},
   "outputs": [],
   "source": [
    "import tmdbsimple as tmdb\n",
    "import os, time, json\n",
    "import pandas as pd\n",
    "import tmdbsimple as tmdb\n",
    "from tqdm.notebook import tqdm_notebook"
   ]
  },
  {
   "cell_type": "markdown",
   "id": "4268f3f1-08d9-4866-a04b-cb9e012c3ea5",
   "metadata": {},
   "source": [
    "The code in this notebook was adapted from the following coding dojo lectures:\n",
    "1. [Intro to TMDB API](https://login.codingdojo.com/m/720/16250/120409)\n",
    "3. [Efficient TMDB API Calls](https://login.codingdojo.com/m/720/16250/120410)"
   ]
  },
  {
   "cell_type": "code",
   "execution_count": 2,
   "id": "d8383a7b-cd04-4973-a690-7032542d4fb5",
   "metadata": {},
   "outputs": [],
   "source": [
    "def get_movie_with_rating(movie_id):\n",
    "    \"\"\"Apapted from source= https://github.com/celiao/tmdbsimple\"\"\"\n",
    "    # get movie object for movie id\n",
    "    movie = tmdb.Movies(movie_id)\n",
    "\n",
    "    # save info and releases dictionaries\n",
    "    info = movie.info()\n",
    "    releases = movie.releases()\n",
    "\n",
    "    # loop through countries in releases dictionary\n",
    "    for c in releases['countries']:\n",
    "        # if country = US, create a certification key in info with the certification from releases\n",
    "        if c['iso_3166_1'] == 'US':\n",
    "\n",
    "            info['certification']=c['certification']\n",
    "    return info"
   ]
  },
  {
   "cell_type": "code",
   "execution_count": 3,
   "id": "4f688964-2e1d-4cb1-86c6-56984d6496d7",
   "metadata": {},
   "outputs": [],
   "source": [
    "def write_json(new_data, filename):\n",
    "    \"\"\"Appends a list of records (new_data) to a existing json file. \n",
    "    Adapted from: https://www.geeksforgeeks.org/append-to-json-file-using-python/\"\"\"\n",
    "\n",
    "    with open(filename,'r+') as file:\n",
    "        # load existing data into a dict\n",
    "        file_data = json.load(file)\n",
    "        # choose to extend or append new data based on data type\n",
    "        if (type(new_data)==list) & (type(file_data)==list):\n",
    "            file_data.extend(new_data)\n",
    "        else:\n",
    "            file_data.append(new_data)\n",
    "        # sets file's current position at offset\n",
    "        file.seek(0)\n",
    "        # convert file to json\n",
    "        json.dump(file_data, file)"
   ]
  },
  {
   "cell_type": "code",
   "execution_count": 4,
   "id": "9702b7b2-251b-46ac-8f22-e3b8f1bc1652",
   "metadata": {},
   "outputs": [
    {
     "data": {
      "text/plain": [
       "dict_keys(['api-key'])"
      ]
     },
     "execution_count": 4,
     "metadata": {},
     "output_type": "execute_result"
    }
   ],
   "source": [
    "# load API key from json fie\n",
    "with open('/Users/x471074/.secret/tmdb_api.json', 'r') as f:\n",
    "    login = json.load(f)\n",
    "login.keys()"
   ]
  },
  {
   "cell_type": "code",
   "execution_count": 5,
   "id": "5b2383e8-58b7-41eb-8347-d0882059d569",
   "metadata": {},
   "outputs": [],
   "source": [
    "tmdb.API_KEY =  login['api-key']"
   ]
  },
  {
   "cell_type": "code",
   "execution_count": 6,
   "id": "711af368-713a-47d1-b59b-807eb8864fdd",
   "metadata": {},
   "outputs": [
    {
     "data": {
      "text/plain": [
       "{'adult': False,\n",
       " 'backdrop_path': '/9BBTo63ANSmhC4e6r62OJFuK2GL.jpg',\n",
       " 'belongs_to_collection': {'id': 86311,\n",
       "  'name': 'The Avengers Collection',\n",
       "  'poster_path': '/yFSIUVTCvgYrpalUktulvk3Gi5Y.jpg',\n",
       "  'backdrop_path': '/zuW6fOiusv4X9nnW3paHGfXcSll.jpg'},\n",
       " 'budget': 220000000,\n",
       " 'genres': [{'id': 878, 'name': 'Science Fiction'},\n",
       "  {'id': 28, 'name': 'Action'},\n",
       "  {'id': 12, 'name': 'Adventure'}],\n",
       " 'homepage': 'https://www.marvel.com/movies/the-avengers',\n",
       " 'id': 24428,\n",
       " 'imdb_id': 'tt0848228',\n",
       " 'original_language': 'en',\n",
       " 'original_title': 'The Avengers',\n",
       " 'overview': 'When an unexpected enemy emerges and threatens global safety and security, Nick Fury, director of the international peacekeeping agency known as S.H.I.E.L.D., finds himself in need of a team to pull the world back from the brink of disaster. Spanning the globe, a daring recruitment effort begins!',\n",
       " 'popularity': 153.834,\n",
       " 'poster_path': '/RYMX2wcKCBAr24UyPD7xwmjaTn.jpg',\n",
       " 'production_companies': [{'id': 420,\n",
       "   'logo_path': '/hUzeosd33nzE5MCNsZxCGEKTXaQ.png',\n",
       "   'name': 'Marvel Studios',\n",
       "   'origin_country': 'US'}],\n",
       " 'production_countries': [{'iso_3166_1': 'US',\n",
       "   'name': 'United States of America'}],\n",
       " 'release_date': '2012-04-25',\n",
       " 'revenue': 1518815515,\n",
       " 'runtime': 143,\n",
       " 'spoken_languages': [{'english_name': 'English',\n",
       "   'iso_639_1': 'en',\n",
       "   'name': 'English'},\n",
       "  {'english_name': 'Hindi', 'iso_639_1': 'hi', 'name': 'हिन्दी'},\n",
       "  {'english_name': 'Russian', 'iso_639_1': 'ru', 'name': 'Pусский'}],\n",
       " 'status': 'Released',\n",
       " 'tagline': 'Some assembly required.',\n",
       " 'title': 'The Avengers',\n",
       " 'video': False,\n",
       " 'vote_average': 7.711,\n",
       " 'vote_count': 29343,\n",
       " 'certification': 'PG-13'}"
      ]
     },
     "execution_count": 6,
     "metadata": {},
     "output_type": "execute_result"
    }
   ],
   "source": [
    "# testing get_movie_rating function\n",
    "get_movie_with_rating(\"tt0848228\")"
   ]
  },
  {
   "cell_type": "code",
   "execution_count": 7,
   "id": "b7c4f8c5-5a6a-44b2-b360-419ac125eb9e",
   "metadata": {},
   "outputs": [
    {
     "data": {
      "text/plain": [
       "{'adult': False,\n",
       " 'backdrop_path': '/qom1SZSENdmHFNZBXbtJAU0WTlC.jpg',\n",
       " 'belongs_to_collection': None,\n",
       " 'budget': 29000000,\n",
       " 'genres': [{'id': 10749, 'name': 'Romance'}, {'id': 18, 'name': 'Drama'}],\n",
       " 'homepage': 'http://www.newline.com/properties/notebookthe.html',\n",
       " 'id': 11036,\n",
       " 'imdb_id': 'tt0332280',\n",
       " 'original_language': 'en',\n",
       " 'original_title': 'The Notebook',\n",
       " 'overview': \"An epic love story centered around an older man who reads aloud to a woman with Alzheimer's. From a faded notebook, the old man's words bring to life the story about a couple who is separated by World War II, and is then passionately reunited, seven years later, after they have taken different paths.\",\n",
       " 'popularity': 63.204,\n",
       " 'poster_path': '/rNzQyW4f8B8cQeg7Dgj3n6eT5k9.jpg',\n",
       " 'production_companies': [{'id': 12,\n",
       "   'logo_path': '/mevhneWSqbjU22D1MXNd4H9x0r0.png',\n",
       "   'name': 'New Line Cinema',\n",
       "   'origin_country': 'US'},\n",
       "  {'id': 1565, 'logo_path': None, 'name': 'Avery Pix', 'origin_country': 'US'},\n",
       "  {'id': 2605,\n",
       "   'logo_path': None,\n",
       "   'name': 'Gran Via Productions',\n",
       "   'origin_country': 'US'}],\n",
       " 'production_countries': [{'iso_3166_1': 'US',\n",
       "   'name': 'United States of America'}],\n",
       " 'release_date': '2004-06-25',\n",
       " 'revenue': 115603229,\n",
       " 'runtime': 123,\n",
       " 'spoken_languages': [{'english_name': 'English',\n",
       "   'iso_639_1': 'en',\n",
       "   'name': 'English'}],\n",
       " 'status': 'Released',\n",
       " 'tagline': 'Behind every great love is a great story.',\n",
       " 'title': 'The Notebook',\n",
       " 'video': False,\n",
       " 'vote_average': 7.883,\n",
       " 'vote_count': 10727,\n",
       " 'certification': 'PG-13'}"
      ]
     },
     "execution_count": 7,
     "metadata": {},
     "output_type": "execute_result"
    }
   ],
   "source": [
    "# testing get_movie_rating function\n",
    "get_movie_with_rating(\"tt0332280\")"
   ]
  },
  {
   "cell_type": "code",
   "execution_count": 8,
   "id": "92b22285-1dc4-4ba4-8245-1d86953efc4f",
   "metadata": {},
   "outputs": [
    {
     "data": {
      "text/plain": [
       "['final_tmdb_data_2000.csv.gz',\n",
       " 'final_tmdb_data_2001.csv.gz',\n",
       " 'title_akas.csv.gz',\n",
       " 'title_basics.csv.gz',\n",
       " 'title_ratings.csv.gz',\n",
       " 'tmdb_api_results_2000.json',\n",
       " 'tmdb_api_results_2001.json']"
      ]
     },
     "execution_count": 8,
     "metadata": {},
     "output_type": "execute_result"
    }
   ],
   "source": [
    "# specify folder to load data\n",
    "FOLDER = 'Data/'\n",
    "# create folder\n",
    "os.makedirs(FOLDER, exist_ok=True)\n",
    "# display files in folder\n",
    "os.listdir(FOLDER)"
   ]
  },
  {
   "cell_type": "code",
   "execution_count": 9,
   "id": "ed8f66b4-b769-43dd-ad7b-ec5d48c1cec8",
   "metadata": {},
   "outputs": [],
   "source": [
    "# load in the datafram from project part 1\n",
    "basics = pd.read_csv('Data/title_basics.csv.gz')"
   ]
  },
  {
   "cell_type": "code",
   "execution_count": 10,
   "id": "3000c492-c292-4d2b-ad12-aa3abcb1f6ea",
   "metadata": {},
   "outputs": [
    {
     "data": {
      "application/vnd.jupyter.widget-view+json": {
       "model_id": "a4ce8c8c21744814a5b472e0f987044e",
       "version_major": 2,
       "version_minor": 0
      },
      "text/plain": [
       "YEARS:   0%|          | 0/10 [00:00<?, ?it/s]"
      ]
     },
     "metadata": {},
     "output_type": "display_data"
    },
    {
     "data": {
      "application/vnd.jupyter.widget-view+json": {
       "model_id": "f80aa8d2bc6344fe893e02349083acbd",
       "version_major": 2,
       "version_minor": 0
      },
      "text/plain": [
       "Movies from 2010:   0%|          | 0/3871 [00:00<?, ?it/s]"
      ]
     },
     "metadata": {},
     "output_type": "display_data"
    },
    {
     "data": {
      "application/vnd.jupyter.widget-view+json": {
       "model_id": "81f48cc7131d41d9b1ef11768aaccf82",
       "version_major": 2,
       "version_minor": 0
      },
      "text/plain": [
       "Movies from 2011:   0%|          | 0/4235 [00:00<?, ?it/s]"
      ]
     },
     "metadata": {},
     "output_type": "display_data"
    },
    {
     "data": {
      "application/vnd.jupyter.widget-view+json": {
       "model_id": "3461746288214de4a4894b8c33871200",
       "version_major": 2,
       "version_minor": 0
      },
      "text/plain": [
       "Movies from 2012:   0%|          | 0/4525 [00:00<?, ?it/s]"
      ]
     },
     "metadata": {},
     "output_type": "display_data"
    },
    {
     "data": {
      "application/vnd.jupyter.widget-view+json": {
       "model_id": "53b7f358793d4fa1bba8cc4ee18712f8",
       "version_major": 2,
       "version_minor": 0
      },
      "text/plain": [
       "Movies from 2013:   0%|          | 0/4727 [00:00<?, ?it/s]"
      ]
     },
     "metadata": {},
     "output_type": "display_data"
    },
    {
     "data": {
      "application/vnd.jupyter.widget-view+json": {
       "model_id": "324153851b3b4ad0bf2854239a163444",
       "version_major": 2,
       "version_minor": 0
      },
      "text/plain": [
       "Movies from 2014:   0%|          | 0/4906 [00:00<?, ?it/s]"
      ]
     },
     "metadata": {},
     "output_type": "display_data"
    },
    {
     "data": {
      "application/vnd.jupyter.widget-view+json": {
       "model_id": "ec35870ca0cb463e88cafb9277f626c8",
       "version_major": 2,
       "version_minor": 0
      },
      "text/plain": [
       "Movies from 2015:   0%|          | 0/5058 [00:00<?, ?it/s]"
      ]
     },
     "metadata": {},
     "output_type": "display_data"
    },
    {
     "data": {
      "application/vnd.jupyter.widget-view+json": {
       "model_id": "dd671b5530114e378c99ee5601e37af8",
       "version_major": 2,
       "version_minor": 0
      },
      "text/plain": [
       "Movies from 2016:   0%|          | 0/5254 [00:00<?, ?it/s]"
      ]
     },
     "metadata": {},
     "output_type": "display_data"
    },
    {
     "data": {
      "application/vnd.jupyter.widget-view+json": {
       "model_id": "0216a5bc58a34af085eb2a3e008bd7b5",
       "version_major": 2,
       "version_minor": 0
      },
      "text/plain": [
       "Movies from 2017:   0%|          | 0/5649 [00:00<?, ?it/s]"
      ]
     },
     "metadata": {},
     "output_type": "display_data"
    },
    {
     "data": {
      "application/vnd.jupyter.widget-view+json": {
       "model_id": "71c9d530858a4ca6b1780eb71fea51c7",
       "version_major": 2,
       "version_minor": 0
      },
      "text/plain": [
       "Movies from 2018:   0%|          | 0/5804 [00:00<?, ?it/s]"
      ]
     },
     "metadata": {},
     "output_type": "display_data"
    },
    {
     "data": {
      "application/vnd.jupyter.widget-view+json": {
       "model_id": "b690233a50254be8858716b5091dbabf",
       "version_major": 2,
       "version_minor": 0
      },
      "text/plain": [
       "Movies from 2019:   0%|          | 0/5889 [00:00<?, ?it/s]"
      ]
     },
     "metadata": {},
     "output_type": "display_data"
    },
    {
     "name": "stdout",
     "output_type": "stream",
     "text": [
      "-Total errors: 11341\n"
     ]
    }
   ],
   "source": [
    "YEARS_TO_GET = [2010, 2011, 2012, 2013, 2014, 2015, 2016, 2017, 2018, 2019]\n",
    "errors = []\n",
    "\n",
    "for YEAR in tqdm_notebook(YEARS_TO_GET, desc='YEARS', position=0):\n",
    "    \n",
    "    # defining JSON file to store results for year\n",
    "    JSON_FILE = f'{FOLDER}tmdb_api_results_{YEAR}.json'\n",
    "    # check if file exists\n",
    "    file_exists = os.path.isfile(JSON_FILE)\n",
    "    \n",
    "    # if it does not exists: create it\n",
    "    if file_exists == False:\n",
    "    # save an empty dict with just 'imdb_id' to the new json file\n",
    "        with open(JSON_FILE,'w') as f:\n",
    "            json.dump([{'imdb_id':0}],f)\n",
    "        \n",
    "    # saving new year as the current df\n",
    "    df = basics.loc[basics['startYear']==YEAR].copy()\n",
    "    # saving movie_ids to list\n",
    "    movie_ids = df['tconst'].copy()\n",
    "    # load existsing data from json into dataframe \n",
    "    previous_df = pd.read_json(JSON_FILE)\n",
    "    # filter out any ids that are already in the JSON_FILE\n",
    "    movie_ids_to_get = movie_ids[~movie_ids.isin(previous_df['imdb_id'])]\n",
    "\n",
    "    # get movie id from list\n",
    "    for movie_id in tqdm_notebook(movie_ids_to_get,\n",
    "                                  desc=f'Movies from {YEAR}',\n",
    "                                  position=1,\n",
    "                                  leave=True):\n",
    "\n",
    "        try:\n",
    "            # retrieve the data for the movie id\n",
    "            temp = get_movie_with_rating(movie_id)\n",
    "            # append/extend results to existing file\n",
    "            write_json(temp,JSON_FILE)\n",
    "            # 20 ms sleep to avoid overwhelming the server\n",
    "            time.sleep(0.02)\n",
    "\n",
    "        # if there's errors, append to error list\n",
    "        except Exception as e:\n",
    "            errors.append([movie_id,e])\n",
    "    \n",
    "    # read json file\n",
    "    final_year_df = pd.read_json(JSON_FILE)\n",
    "    # save file to csv.gz\n",
    "    final_year_df.to_csv(f'{FOLDER}final_tmdb_data_{YEAR}.csv.gz',compression='gzip',index=False)\n",
    "\n",
    "# print errors\n",
    "print(f'-Total errors: {len(errors)}')"
   ]
  },
  {
   "cell_type": "code",
   "execution_count": null,
   "id": "9fa69eb0-7a3d-4cda-814f-79426f5161a5",
   "metadata": {},
   "outputs": [],
   "source": []
  }
 ],
 "metadata": {
  "kernelspec": {
   "display_name": "Python (dojo-env)",
   "language": "python",
   "name": "dojo-env"
  },
  "language_info": {
   "codemirror_mode": {
    "name": "ipython",
    "version": 3
   },
   "file_extension": ".py",
   "mimetype": "text/x-python",
   "name": "python",
   "nbconvert_exporter": "python",
   "pygments_lexer": "ipython3",
   "version": "3.10.10"
  },
  "widgets": {
   "application/vnd.jupyter.widget-state+json": {
    "state": {
     "00257329289a49898aebbb74fff386a7": {
      "model_module": "@jupyter-widgets/controls",
      "model_module_version": "2.0.0",
      "model_name": "ProgressStyleModel",
      "state": {
       "description_width": ""
      }
     },
     "00ef3cfe0869409ca0b52530fafcd821": {
      "model_module": "@jupyter-widgets/controls",
      "model_module_version": "2.0.0",
      "model_name": "HTMLModel",
      "state": {
       "layout": "IPY_MODEL_34319256c8d6409f8f619563fe5e39f4",
       "style": "IPY_MODEL_c117be17202848389f182ec7a7b5be55",
       "value": " 4235/4235 [1:08:10&lt;00:00,  1.56it/s]"
      }
     },
     "0216a5bc58a34af085eb2a3e008bd7b5": {
      "model_module": "@jupyter-widgets/controls",
      "model_module_version": "2.0.0",
      "model_name": "HBoxModel",
      "state": {
       "children": [
        "IPY_MODEL_4cd44aef69314353ad87058c76b04602",
        "IPY_MODEL_3b182fb44658436788fcb7a2265f388c",
        "IPY_MODEL_53d5c3f87a8d4cfab08b937dcd50354c"
       ],
       "layout": "IPY_MODEL_44abd3a494844dcc9efa558a5e19255a"
      }
     },
     "081d5788addf4b78b56054c03885fff6": {
      "model_module": "@jupyter-widgets/controls",
      "model_module_version": "2.0.0",
      "model_name": "HTMLStyleModel",
      "state": {
       "description_width": "",
       "font_size": null,
       "text_color": null
      }
     },
     "09202a72e1d14fe08a180de9e2cefaec": {
      "model_module": "@jupyter-widgets/controls",
      "model_module_version": "2.0.0",
      "model_name": "HTMLStyleModel",
      "state": {
       "description_width": "",
       "font_size": null,
       "text_color": null
      }
     },
     "0cdb35f1966b4c5bab0b2330ca244a74": {
      "model_module": "@jupyter-widgets/base",
      "model_module_version": "2.0.0",
      "model_name": "LayoutModel",
      "state": {}
     },
     "0ef4efd31d31469ab35d1631cfcf2d67": {
      "model_module": "@jupyter-widgets/controls",
      "model_module_version": "2.0.0",
      "model_name": "HTMLModel",
      "state": {
       "layout": "IPY_MODEL_24a7b34f6dbb419fbb2e803339c65c67",
       "style": "IPY_MODEL_2245e46847254548a0f9bbf8d8c15045",
       "value": " 10/10 [15:34:28&lt;00:00, 6487.85s/it]"
      }
     },
     "0f22cedf6801475c82b53172dff8271d": {
      "model_module": "@jupyter-widgets/base",
      "model_module_version": "2.0.0",
      "model_name": "LayoutModel",
      "state": {}
     },
     "14c1edb39dbe4bea987712bc139dd5d8": {
      "model_module": "@jupyter-widgets/controls",
      "model_module_version": "2.0.0",
      "model_name": "HTMLModel",
      "state": {
       "layout": "IPY_MODEL_f520ed9aebdb4f19b688b32d1a33995b",
       "style": "IPY_MODEL_90372bdd6e2049d2a71e76c48d0fb68f",
       "value": "Movies from 2016: 100%"
      }
     },
     "15f7478c39294e849a3495b3288ad9da": {
      "model_module": "@jupyter-widgets/base",
      "model_module_version": "2.0.0",
      "model_name": "LayoutModel",
      "state": {}
     },
     "1b497f60beab48a08b6b3288542982cd": {
      "model_module": "@jupyter-widgets/controls",
      "model_module_version": "2.0.0",
      "model_name": "FloatProgressModel",
      "state": {
       "bar_style": "success",
       "layout": "IPY_MODEL_3a540bf73bbf406aa71f5885e7a9bc38",
       "max": 4906,
       "style": "IPY_MODEL_80c3681e1a8b4859b1a9a26ce0a97fca",
       "value": 4906
      }
     },
     "1cf3c2026ad842fbb88007ed01e0a92c": {
      "model_module": "@jupyter-widgets/controls",
      "model_module_version": "2.0.0",
      "model_name": "ProgressStyleModel",
      "state": {
       "description_width": ""
      }
     },
     "1f33eb2a2dca4aca9457ae9db1004aef": {
      "model_module": "@jupyter-widgets/controls",
      "model_module_version": "2.0.0",
      "model_name": "HTMLStyleModel",
      "state": {
       "description_width": "",
       "font_size": null,
       "text_color": null
      }
     },
     "216d9c81906641039897954f6c882407": {
      "model_module": "@jupyter-widgets/base",
      "model_module_version": "2.0.0",
      "model_name": "LayoutModel",
      "state": {}
     },
     "2245e46847254548a0f9bbf8d8c15045": {
      "model_module": "@jupyter-widgets/controls",
      "model_module_version": "2.0.0",
      "model_name": "HTMLStyleModel",
      "state": {
       "description_width": "",
       "font_size": null,
       "text_color": null
      }
     },
     "24a7b34f6dbb419fbb2e803339c65c67": {
      "model_module": "@jupyter-widgets/base",
      "model_module_version": "2.0.0",
      "model_name": "LayoutModel",
      "state": {}
     },
     "30482ec443e94619938c9d17d4484943": {
      "model_module": "@jupyter-widgets/base",
      "model_module_version": "2.0.0",
      "model_name": "LayoutModel",
      "state": {}
     },
     "310628e2503e4c798f5122a030718fbb": {
      "model_module": "@jupyter-widgets/base",
      "model_module_version": "2.0.0",
      "model_name": "LayoutModel",
      "state": {}
     },
     "324153851b3b4ad0bf2854239a163444": {
      "model_module": "@jupyter-widgets/controls",
      "model_module_version": "2.0.0",
      "model_name": "HBoxModel",
      "state": {
       "children": [
        "IPY_MODEL_e0924734c8004664a64f5e357f7bd5b6",
        "IPY_MODEL_1b497f60beab48a08b6b3288542982cd",
        "IPY_MODEL_56813a8e7d56419a9b166fd5f5ce4375"
       ],
       "layout": "IPY_MODEL_7612168af22149c9999c39d1dbb7d22f"
      }
     },
     "34319256c8d6409f8f619563fe5e39f4": {
      "model_module": "@jupyter-widgets/base",
      "model_module_version": "2.0.0",
      "model_name": "LayoutModel",
      "state": {}
     },
     "3461746288214de4a4894b8c33871200": {
      "model_module": "@jupyter-widgets/controls",
      "model_module_version": "2.0.0",
      "model_name": "HBoxModel",
      "state": {
       "children": [
        "IPY_MODEL_f75d5ea9cf62459d83a31c6a6bbbbc08",
        "IPY_MODEL_558a2bf5a3104f9999c6df4eba3d4f53",
        "IPY_MODEL_e6658a1d59204a0cb82c530f892eb7de"
       ],
       "layout": "IPY_MODEL_d8c6ed26e98b409c9c88ba8ff8164b49"
      }
     },
     "3a540bf73bbf406aa71f5885e7a9bc38": {
      "model_module": "@jupyter-widgets/base",
      "model_module_version": "2.0.0",
      "model_name": "LayoutModel",
      "state": {}
     },
     "3b182fb44658436788fcb7a2265f388c": {
      "model_module": "@jupyter-widgets/controls",
      "model_module_version": "2.0.0",
      "model_name": "FloatProgressModel",
      "state": {
       "bar_style": "success",
       "layout": "IPY_MODEL_a1dd7956f50e40b083c31481ff8cc3cd",
       "max": 5649,
       "style": "IPY_MODEL_b25749526bc74f8ca8674ea0cc2724ca",
       "value": 5649
      }
     },
     "3eb7ad7fca5549f4b9e6779a46cc5a01": {
      "model_module": "@jupyter-widgets/base",
      "model_module_version": "2.0.0",
      "model_name": "LayoutModel",
      "state": {}
     },
     "43ca825c42354ffdba4e3de78de90d3b": {
      "model_module": "@jupyter-widgets/controls",
      "model_module_version": "2.0.0",
      "model_name": "HTMLModel",
      "state": {
       "layout": "IPY_MODEL_e0e8914ff9a8406ca48391db3ecbf68a",
       "style": "IPY_MODEL_58d277dda6da4109af3bea23084beb01",
       "value": "YEARS: 100%"
      }
     },
     "445ae1e35c94470b91cabe9a55dba623": {
      "model_module": "@jupyter-widgets/controls",
      "model_module_version": "2.0.0",
      "model_name": "ProgressStyleModel",
      "state": {
       "description_width": ""
      }
     },
     "44abd3a494844dcc9efa558a5e19255a": {
      "model_module": "@jupyter-widgets/base",
      "model_module_version": "2.0.0",
      "model_name": "LayoutModel",
      "state": {}
     },
     "4ad5ac53058645ffa0ffc79c427c2502": {
      "model_module": "@jupyter-widgets/controls",
      "model_module_version": "2.0.0",
      "model_name": "FloatProgressModel",
      "state": {
       "bar_style": "success",
       "layout": "IPY_MODEL_310628e2503e4c798f5122a030718fbb",
       "max": 4727,
       "style": "IPY_MODEL_97cfe8f669504b43800a90d3c58a03b1",
       "value": 4727
      }
     },
     "4c6b9c4156a34ae6a5b4ecc48231266b": {
      "model_module": "@jupyter-widgets/base",
      "model_module_version": "2.0.0",
      "model_name": "LayoutModel",
      "state": {}
     },
     "4cd44aef69314353ad87058c76b04602": {
      "model_module": "@jupyter-widgets/controls",
      "model_module_version": "2.0.0",
      "model_name": "HTMLModel",
      "state": {
       "layout": "IPY_MODEL_d0bd2d5aa1fd41da9bf572ab74c430e1",
       "style": "IPY_MODEL_6e456e5a06ee469db49d7200598ed553",
       "value": "Movies from 2017: 100%"
      }
     },
     "4efbbee7967a4e9e8d5bde397cf1aecd": {
      "model_module": "@jupyter-widgets/controls",
      "model_module_version": "2.0.0",
      "model_name": "HTMLStyleModel",
      "state": {
       "description_width": "",
       "font_size": null,
       "text_color": null
      }
     },
     "53b7f358793d4fa1bba8cc4ee18712f8": {
      "model_module": "@jupyter-widgets/controls",
      "model_module_version": "2.0.0",
      "model_name": "HBoxModel",
      "state": {
       "children": [
        "IPY_MODEL_a0313d6992b84295ac409a6e05880eb9",
        "IPY_MODEL_4ad5ac53058645ffa0ffc79c427c2502",
        "IPY_MODEL_8ff87ed3df0145dba74a3d6d86093135"
       ],
       "layout": "IPY_MODEL_4c6b9c4156a34ae6a5b4ecc48231266b"
      }
     },
     "53d5c3f87a8d4cfab08b937dcd50354c": {
      "model_module": "@jupyter-widgets/controls",
      "model_module_version": "2.0.0",
      "model_name": "HTMLModel",
      "state": {
       "layout": "IPY_MODEL_9848ca66775b4269a652fece73792f7d",
       "style": "IPY_MODEL_609e178697a846108b0530e4a0313572",
       "value": " 5649/5649 [1:48:49&lt;00:00,  1.69it/s]"
      }
     },
     "558a2bf5a3104f9999c6df4eba3d4f53": {
      "model_module": "@jupyter-widgets/controls",
      "model_module_version": "2.0.0",
      "model_name": "FloatProgressModel",
      "state": {
       "bar_style": "success",
       "layout": "IPY_MODEL_8e35337dd90d4b68b74771b0b75e00c4",
       "max": 4525,
       "style": "IPY_MODEL_445ae1e35c94470b91cabe9a55dba623",
       "value": 4525
      }
     },
     "56813a8e7d56419a9b166fd5f5ce4375": {
      "model_module": "@jupyter-widgets/controls",
      "model_module_version": "2.0.0",
      "model_name": "HTMLModel",
      "state": {
       "layout": "IPY_MODEL_0f22cedf6801475c82b53172dff8271d",
       "style": "IPY_MODEL_5ba3a9618bba48c0ab4ebf8517a61d99",
       "value": " 4906/4906 [1:31:35&lt;00:00,  1.44it/s]"
      }
     },
     "58d277dda6da4109af3bea23084beb01": {
      "model_module": "@jupyter-widgets/controls",
      "model_module_version": "2.0.0",
      "model_name": "HTMLStyleModel",
      "state": {
       "description_width": "",
       "font_size": null,
       "text_color": null
      }
     },
     "5ba3a9618bba48c0ab4ebf8517a61d99": {
      "model_module": "@jupyter-widgets/controls",
      "model_module_version": "2.0.0",
      "model_name": "HTMLStyleModel",
      "state": {
       "description_width": "",
       "font_size": null,
       "text_color": null
      }
     },
     "5f495d592f5044da978aae354c1661a4": {
      "model_module": "@jupyter-widgets/controls",
      "model_module_version": "2.0.0",
      "model_name": "HTMLModel",
      "state": {
       "layout": "IPY_MODEL_8290e46cdf3f4eae98ca60722c33d35d",
       "style": "IPY_MODEL_9c16b7338cad4d0f83e4e3038d57ad91",
       "value": "Movies from 2015: 100%"
      }
     },
     "609e178697a846108b0530e4a0313572": {
      "model_module": "@jupyter-widgets/controls",
      "model_module_version": "2.0.0",
      "model_name": "HTMLStyleModel",
      "state": {
       "description_width": "",
       "font_size": null,
       "text_color": null
      }
     },
     "64a0e6f3163d4f6e87cdb7211cdb0a4c": {
      "model_module": "@jupyter-widgets/controls",
      "model_module_version": "2.0.0",
      "model_name": "FloatProgressModel",
      "state": {
       "bar_style": "success",
       "layout": "IPY_MODEL_216d9c81906641039897954f6c882407",
       "max": 10,
       "style": "IPY_MODEL_6d1e53024df3484abe35fde7e3d90bdb",
       "value": 10
      }
     },
     "690e9618ed45422b99ddd468c22945e9": {
      "model_module": "@jupyter-widgets/controls",
      "model_module_version": "2.0.0",
      "model_name": "HTMLModel",
      "state": {
       "layout": "IPY_MODEL_3eb7ad7fca5549f4b9e6779a46cc5a01",
       "style": "IPY_MODEL_f2b6d73c402d497eaa3b20c52b4d94e8",
       "value": " 5804/5804 [1:52:54&lt;00:00,  1.09it/s]"
      }
     },
     "6b0c0977080447a0a7882b00b10c8ccb": {
      "model_module": "@jupyter-widgets/base",
      "model_module_version": "2.0.0",
      "model_name": "LayoutModel",
      "state": {}
     },
     "6d1e53024df3484abe35fde7e3d90bdb": {
      "model_module": "@jupyter-widgets/controls",
      "model_module_version": "2.0.0",
      "model_name": "ProgressStyleModel",
      "state": {
       "description_width": ""
      }
     },
     "6e0efdab5ee848ce8f5d93b9626c2bc4": {
      "model_module": "@jupyter-widgets/controls",
      "model_module_version": "2.0.0",
      "model_name": "ProgressStyleModel",
      "state": {
       "description_width": ""
      }
     },
     "6e456e5a06ee469db49d7200598ed553": {
      "model_module": "@jupyter-widgets/controls",
      "model_module_version": "2.0.0",
      "model_name": "HTMLStyleModel",
      "state": {
       "description_width": "",
       "font_size": null,
       "text_color": null
      }
     },
     "71c9d530858a4ca6b1780eb71fea51c7": {
      "model_module": "@jupyter-widgets/controls",
      "model_module_version": "2.0.0",
      "model_name": "HBoxModel",
      "state": {
       "children": [
        "IPY_MODEL_f32bdaa89b954666994731ec1b44925e",
        "IPY_MODEL_e7d6866f8fe84fd7a136ad19b8f53c26",
        "IPY_MODEL_690e9618ed45422b99ddd468c22945e9"
       ],
       "layout": "IPY_MODEL_d6978223c5ff484fab3e968be30eac21"
      }
     },
     "721b3096cf3243cfb79e1449cfc0ec56": {
      "model_module": "@jupyter-widgets/base",
      "model_module_version": "2.0.0",
      "model_name": "LayoutModel",
      "state": {}
     },
     "745ad8f5466c451ba9d67ed02a5b624a": {
      "model_module": "@jupyter-widgets/base",
      "model_module_version": "2.0.0",
      "model_name": "LayoutModel",
      "state": {}
     },
     "7612168af22149c9999c39d1dbb7d22f": {
      "model_module": "@jupyter-widgets/base",
      "model_module_version": "2.0.0",
      "model_name": "LayoutModel",
      "state": {}
     },
     "80384b2e9e8544f2b205af95d8f08f07": {
      "model_module": "@jupyter-widgets/base",
      "model_module_version": "2.0.0",
      "model_name": "LayoutModel",
      "state": {}
     },
     "80c3681e1a8b4859b1a9a26ce0a97fca": {
      "model_module": "@jupyter-widgets/controls",
      "model_module_version": "2.0.0",
      "model_name": "ProgressStyleModel",
      "state": {
       "description_width": ""
      }
     },
     "81f48cc7131d41d9b1ef11768aaccf82": {
      "model_module": "@jupyter-widgets/controls",
      "model_module_version": "2.0.0",
      "model_name": "HBoxModel",
      "state": {
       "children": [
        "IPY_MODEL_85106d4f74e247dd962997f06ed3101d",
        "IPY_MODEL_f0b11095282847b9b588ce2e8d634ff6",
        "IPY_MODEL_00ef3cfe0869409ca0b52530fafcd821"
       ],
       "layout": "IPY_MODEL_15f7478c39294e849a3495b3288ad9da"
      }
     },
     "8290e46cdf3f4eae98ca60722c33d35d": {
      "model_module": "@jupyter-widgets/base",
      "model_module_version": "2.0.0",
      "model_name": "LayoutModel",
      "state": {}
     },
     "85106d4f74e247dd962997f06ed3101d": {
      "model_module": "@jupyter-widgets/controls",
      "model_module_version": "2.0.0",
      "model_name": "HTMLModel",
      "state": {
       "layout": "IPY_MODEL_b099857a9e344eea8c58d103afe8ed5e",
       "style": "IPY_MODEL_4efbbee7967a4e9e8d5bde397cf1aecd",
       "value": "Movies from 2011: 100%"
      }
     },
     "883eee1402fc4aafade88b1cd99db585": {
      "model_module": "@jupyter-widgets/base",
      "model_module_version": "2.0.0",
      "model_name": "LayoutModel",
      "state": {}
     },
     "88de7610e6dd4715a77e963f5880597c": {
      "model_module": "@jupyter-widgets/base",
      "model_module_version": "2.0.0",
      "model_name": "LayoutModel",
      "state": {}
     },
     "89c74104286d40e29b83021286f82c87": {
      "model_module": "@jupyter-widgets/controls",
      "model_module_version": "2.0.0",
      "model_name": "FloatProgressModel",
      "state": {
       "bar_style": "success",
       "layout": "IPY_MODEL_6b0c0977080447a0a7882b00b10c8ccb",
       "max": 3871,
       "style": "IPY_MODEL_6e0efdab5ee848ce8f5d93b9626c2bc4",
       "value": 3871
      }
     },
     "8b82af512615465a83106eb80126aaf0": {
      "model_module": "@jupyter-widgets/base",
      "model_module_version": "2.0.0",
      "model_name": "LayoutModel",
      "state": {}
     },
     "8e35337dd90d4b68b74771b0b75e00c4": {
      "model_module": "@jupyter-widgets/base",
      "model_module_version": "2.0.0",
      "model_name": "LayoutModel",
      "state": {}
     },
     "8ff87ed3df0145dba74a3d6d86093135": {
      "model_module": "@jupyter-widgets/controls",
      "model_module_version": "2.0.0",
      "model_name": "HTMLModel",
      "state": {
       "layout": "IPY_MODEL_c172054733ae4a6597c90553930628b7",
       "style": "IPY_MODEL_d2d2c7ddc63840d4aa24da91be06d7d9",
       "value": " 4727/4727 [1:21:43&lt;00:00,  1.48it/s]"
      }
     },
     "90372bdd6e2049d2a71e76c48d0fb68f": {
      "model_module": "@jupyter-widgets/controls",
      "model_module_version": "2.0.0",
      "model_name": "HTMLStyleModel",
      "state": {
       "description_width": "",
       "font_size": null,
       "text_color": null
      }
     },
     "94040b646dbe4a03981be4b72c839496": {
      "model_module": "@jupyter-widgets/base",
      "model_module_version": "2.0.0",
      "model_name": "LayoutModel",
      "state": {}
     },
     "9462232871fa43afaaa6a43ba0aa6b10": {
      "model_module": "@jupyter-widgets/controls",
      "model_module_version": "2.0.0",
      "model_name": "HTMLModel",
      "state": {
       "layout": "IPY_MODEL_721b3096cf3243cfb79e1449cfc0ec56",
       "style": "IPY_MODEL_1f33eb2a2dca4aca9457ae9db1004aef",
       "value": "Movies from 2010: 100%"
      }
     },
     "97cfe8f669504b43800a90d3c58a03b1": {
      "model_module": "@jupyter-widgets/controls",
      "model_module_version": "2.0.0",
      "model_name": "ProgressStyleModel",
      "state": {
       "description_width": ""
      }
     },
     "9848ca66775b4269a652fece73792f7d": {
      "model_module": "@jupyter-widgets/base",
      "model_module_version": "2.0.0",
      "model_name": "LayoutModel",
      "state": {}
     },
     "9c055ea708b54f20aaf46c62b479ac70": {
      "model_module": "@jupyter-widgets/base",
      "model_module_version": "2.0.0",
      "model_name": "LayoutModel",
      "state": {}
     },
     "9c16b7338cad4d0f83e4e3038d57ad91": {
      "model_module": "@jupyter-widgets/controls",
      "model_module_version": "2.0.0",
      "model_name": "HTMLStyleModel",
      "state": {
       "description_width": "",
       "font_size": null,
       "text_color": null
      }
     },
     "9fcbdc39f02b420cbcbd1167b78dae63": {
      "model_module": "@jupyter-widgets/controls",
      "model_module_version": "2.0.0",
      "model_name": "HTMLStyleModel",
      "state": {
       "description_width": "",
       "font_size": null,
       "text_color": null
      }
     },
     "a0313d6992b84295ac409a6e05880eb9": {
      "model_module": "@jupyter-widgets/controls",
      "model_module_version": "2.0.0",
      "model_name": "HTMLModel",
      "state": {
       "layout": "IPY_MODEL_b0a8a4681b724415a96d3732790fec39",
       "style": "IPY_MODEL_d2bd3f0d7eaf4a7cbe24f0b66554b441",
       "value": "Movies from 2013: 100%"
      }
     },
     "a1dd7956f50e40b083c31481ff8cc3cd": {
      "model_module": "@jupyter-widgets/base",
      "model_module_version": "2.0.0",
      "model_name": "LayoutModel",
      "state": {}
     },
     "a41434d93f88422e9c2875e85b7d6e83": {
      "model_module": "@jupyter-widgets/base",
      "model_module_version": "2.0.0",
      "model_name": "LayoutModel",
      "state": {}
     },
     "a4ce8c8c21744814a5b472e0f987044e": {
      "model_module": "@jupyter-widgets/controls",
      "model_module_version": "2.0.0",
      "model_name": "HBoxModel",
      "state": {
       "children": [
        "IPY_MODEL_43ca825c42354ffdba4e3de78de90d3b",
        "IPY_MODEL_64a0e6f3163d4f6e87cdb7211cdb0a4c",
        "IPY_MODEL_0ef4efd31d31469ab35d1631cfcf2d67"
       ],
       "layout": "IPY_MODEL_c98d3e9739d749d5b847c798b91fb946"
      }
     },
     "a899de164aad4d8c9de3081502dd4c62": {
      "model_module": "@jupyter-widgets/base",
      "model_module_version": "2.0.0",
      "model_name": "LayoutModel",
      "state": {}
     },
     "ad4a038553944404b2b8a71c1a878693": {
      "model_module": "@jupyter-widgets/controls",
      "model_module_version": "2.0.0",
      "model_name": "HTMLStyleModel",
      "state": {
       "description_width": "",
       "font_size": null,
       "text_color": null
      }
     },
     "b099857a9e344eea8c58d103afe8ed5e": {
      "model_module": "@jupyter-widgets/base",
      "model_module_version": "2.0.0",
      "model_name": "LayoutModel",
      "state": {}
     },
     "b0a8a4681b724415a96d3732790fec39": {
      "model_module": "@jupyter-widgets/base",
      "model_module_version": "2.0.0",
      "model_name": "LayoutModel",
      "state": {}
     },
     "b25749526bc74f8ca8674ea0cc2724ca": {
      "model_module": "@jupyter-widgets/controls",
      "model_module_version": "2.0.0",
      "model_name": "ProgressStyleModel",
      "state": {
       "description_width": ""
      }
     },
     "b690233a50254be8858716b5091dbabf": {
      "model_module": "@jupyter-widgets/controls",
      "model_module_version": "2.0.0",
      "model_name": "HBoxModel",
      "state": {
       "children": [
        "IPY_MODEL_f6e0b592d8e540b6be83e68b4fad6464",
        "IPY_MODEL_db0dea28d4eb4fe2ac6c654c02b182e9",
        "IPY_MODEL_c14074fcb9814bc2bb8e31eec751fef6"
       ],
       "layout": "IPY_MODEL_0cdb35f1966b4c5bab0b2330ca244a74"
      }
     },
     "b7b193ed4bbe4a1b85c1a30b66d0bdfe": {
      "model_module": "@jupyter-widgets/controls",
      "model_module_version": "2.0.0",
      "model_name": "HTMLStyleModel",
      "state": {
       "description_width": "",
       "font_size": null,
       "text_color": null
      }
     },
     "bb248778fb634cbf880e3b0d4062f428": {
      "model_module": "@jupyter-widgets/controls",
      "model_module_version": "2.0.0",
      "model_name": "ProgressStyleModel",
      "state": {
       "description_width": ""
      }
     },
     "c0a30dfecc2f46e988a99ad5cb40eab5": {
      "model_module": "@jupyter-widgets/controls",
      "model_module_version": "2.0.0",
      "model_name": "HTMLStyleModel",
      "state": {
       "description_width": "",
       "font_size": null,
       "text_color": null
      }
     },
     "c117be17202848389f182ec7a7b5be55": {
      "model_module": "@jupyter-widgets/controls",
      "model_module_version": "2.0.0",
      "model_name": "HTMLStyleModel",
      "state": {
       "description_width": "",
       "font_size": null,
       "text_color": null
      }
     },
     "c14074fcb9814bc2bb8e31eec751fef6": {
      "model_module": "@jupyter-widgets/controls",
      "model_module_version": "2.0.0",
      "model_name": "HTMLModel",
      "state": {
       "layout": "IPY_MODEL_a899de164aad4d8c9de3081502dd4c62",
       "style": "IPY_MODEL_081d5788addf4b78b56054c03885fff6",
       "value": " 5889/5889 [1:57:20&lt;00:00,  1.30s/it]"
      }
     },
     "c172054733ae4a6597c90553930628b7": {
      "model_module": "@jupyter-widgets/base",
      "model_module_version": "2.0.0",
      "model_name": "LayoutModel",
      "state": {}
     },
     "c98d3e9739d749d5b847c798b91fb946": {
      "model_module": "@jupyter-widgets/base",
      "model_module_version": "2.0.0",
      "model_name": "LayoutModel",
      "state": {}
     },
     "cb4264b27ff84e8d9826941fb58f1d16": {
      "model_module": "@jupyter-widgets/base",
      "model_module_version": "2.0.0",
      "model_name": "LayoutModel",
      "state": {}
     },
     "cf773f20030649a1b09665fb4342fcb9": {
      "model_module": "@jupyter-widgets/controls",
      "model_module_version": "2.0.0",
      "model_name": "HTMLModel",
      "state": {
       "layout": "IPY_MODEL_a41434d93f88422e9c2875e85b7d6e83",
       "style": "IPY_MODEL_c0a30dfecc2f46e988a99ad5cb40eab5",
       "value": " 3871/3871 [1:06:56&lt;00:00,  1.13s/it]"
      }
     },
     "d0bd2d5aa1fd41da9bf572ab74c430e1": {
      "model_module": "@jupyter-widgets/base",
      "model_module_version": "2.0.0",
      "model_name": "LayoutModel",
      "state": {}
     },
     "d2bd3f0d7eaf4a7cbe24f0b66554b441": {
      "model_module": "@jupyter-widgets/controls",
      "model_module_version": "2.0.0",
      "model_name": "HTMLStyleModel",
      "state": {
       "description_width": "",
       "font_size": null,
       "text_color": null
      }
     },
     "d2d2c7ddc63840d4aa24da91be06d7d9": {
      "model_module": "@jupyter-widgets/controls",
      "model_module_version": "2.0.0",
      "model_name": "HTMLStyleModel",
      "state": {
       "description_width": "",
       "font_size": null,
       "text_color": null
      }
     },
     "d6978223c5ff484fab3e968be30eac21": {
      "model_module": "@jupyter-widgets/base",
      "model_module_version": "2.0.0",
      "model_name": "LayoutModel",
      "state": {}
     },
     "d8c6ed26e98b409c9c88ba8ff8164b49": {
      "model_module": "@jupyter-widgets/base",
      "model_module_version": "2.0.0",
      "model_name": "LayoutModel",
      "state": {}
     },
     "db0dea28d4eb4fe2ac6c654c02b182e9": {
      "model_module": "@jupyter-widgets/controls",
      "model_module_version": "2.0.0",
      "model_name": "FloatProgressModel",
      "state": {
       "bar_style": "success",
       "layout": "IPY_MODEL_30482ec443e94619938c9d17d4484943",
       "max": 5889,
       "style": "IPY_MODEL_fd6b95879fc3481fb61154e41c84673f",
       "value": 5889
      }
     },
     "dd671b5530114e378c99ee5601e37af8": {
      "model_module": "@jupyter-widgets/controls",
      "model_module_version": "2.0.0",
      "model_name": "HBoxModel",
      "state": {
       "children": [
        "IPY_MODEL_14c1edb39dbe4bea987712bc139dd5d8",
        "IPY_MODEL_fb8d2c5e3a694fc9b28163424172713c",
        "IPY_MODEL_e8b50205aca24eafa7aa9cd25425dd2c"
       ],
       "layout": "IPY_MODEL_745ad8f5466c451ba9d67ed02a5b624a"
      }
     },
     "e0924734c8004664a64f5e357f7bd5b6": {
      "model_module": "@jupyter-widgets/controls",
      "model_module_version": "2.0.0",
      "model_name": "HTMLModel",
      "state": {
       "layout": "IPY_MODEL_8b82af512615465a83106eb80126aaf0",
       "style": "IPY_MODEL_b7b193ed4bbe4a1b85c1a30b66d0bdfe",
       "value": "Movies from 2014: 100%"
      }
     },
     "e0e8914ff9a8406ca48391db3ecbf68a": {
      "model_module": "@jupyter-widgets/base",
      "model_module_version": "2.0.0",
      "model_name": "LayoutModel",
      "state": {}
     },
     "e1ae1a2bab994ac1a6fe1ca158404e98": {
      "model_module": "@jupyter-widgets/controls",
      "model_module_version": "2.0.0",
      "model_name": "ProgressStyleModel",
      "state": {
       "description_width": ""
      }
     },
     "e2d933aa3bb74c4c9e048e0c6c36ccd8": {
      "model_module": "@jupyter-widgets/base",
      "model_module_version": "2.0.0",
      "model_name": "LayoutModel",
      "state": {}
     },
     "e308a40aa22e4b17adb9ce9831d7bb03": {
      "model_module": "@jupyter-widgets/base",
      "model_module_version": "2.0.0",
      "model_name": "LayoutModel",
      "state": {}
     },
     "e389fc3f87ab40fa8455a7e0893c5f13": {
      "model_module": "@jupyter-widgets/base",
      "model_module_version": "2.0.0",
      "model_name": "LayoutModel",
      "state": {}
     },
     "e4659342c673492c949d0706d564eca8": {
      "model_module": "@jupyter-widgets/controls",
      "model_module_version": "2.0.0",
      "model_name": "HTMLStyleModel",
      "state": {
       "description_width": "",
       "font_size": null,
       "text_color": null
      }
     },
     "e6658a1d59204a0cb82c530f892eb7de": {
      "model_module": "@jupyter-widgets/controls",
      "model_module_version": "2.0.0",
      "model_name": "HTMLModel",
      "state": {
       "layout": "IPY_MODEL_88de7610e6dd4715a77e963f5880597c",
       "style": "IPY_MODEL_e4659342c673492c949d0706d564eca8",
       "value": " 4525/4525 [1:17:21&lt;00:00,  1.34it/s]"
      }
     },
     "e68266cf7a3e46629f9bd3c85cdd9951": {
      "model_module": "@jupyter-widgets/base",
      "model_module_version": "2.0.0",
      "model_name": "LayoutModel",
      "state": {}
     },
     "e7d6866f8fe84fd7a136ad19b8f53c26": {
      "model_module": "@jupyter-widgets/controls",
      "model_module_version": "2.0.0",
      "model_name": "FloatProgressModel",
      "state": {
       "bar_style": "success",
       "layout": "IPY_MODEL_e308a40aa22e4b17adb9ce9831d7bb03",
       "max": 5804,
       "style": "IPY_MODEL_00257329289a49898aebbb74fff386a7",
       "value": 5804
      }
     },
     "e8b50205aca24eafa7aa9cd25425dd2c": {
      "model_module": "@jupyter-widgets/controls",
      "model_module_version": "2.0.0",
      "model_name": "HTMLModel",
      "state": {
       "layout": "IPY_MODEL_94040b646dbe4a03981be4b72c839496",
       "style": "IPY_MODEL_9fcbdc39f02b420cbcbd1167b78dae63",
       "value": " 5254/5254 [1:58:34&lt;00:00,  1.37s/it]"
      }
     },
     "ec35870ca0cb463e88cafb9277f626c8": {
      "model_module": "@jupyter-widgets/controls",
      "model_module_version": "2.0.0",
      "model_name": "HBoxModel",
      "state": {
       "children": [
        "IPY_MODEL_5f495d592f5044da978aae354c1661a4",
        "IPY_MODEL_f9608abb46be44e0aa5fa22c10570165",
        "IPY_MODEL_fa350a9a4d9f499d8ebe8fc669a9f840"
       ],
       "layout": "IPY_MODEL_f0669b597b4a4f559e7d82c69995ca23"
      }
     },
     "f00914c6512848d6a29d496fda20e2cb": {
      "model_module": "@jupyter-widgets/base",
      "model_module_version": "2.0.0",
      "model_name": "LayoutModel",
      "state": {}
     },
     "f0669b597b4a4f559e7d82c69995ca23": {
      "model_module": "@jupyter-widgets/base",
      "model_module_version": "2.0.0",
      "model_name": "LayoutModel",
      "state": {}
     },
     "f0b11095282847b9b588ce2e8d634ff6": {
      "model_module": "@jupyter-widgets/controls",
      "model_module_version": "2.0.0",
      "model_name": "FloatProgressModel",
      "state": {
       "bar_style": "success",
       "layout": "IPY_MODEL_80384b2e9e8544f2b205af95d8f08f07",
       "max": 4235,
       "style": "IPY_MODEL_bb248778fb634cbf880e3b0d4062f428",
       "value": 4235
      }
     },
     "f218e8468b674c928c24f58d90c5c498": {
      "model_module": "@jupyter-widgets/controls",
      "model_module_version": "2.0.0",
      "model_name": "HTMLStyleModel",
      "state": {
       "description_width": "",
       "font_size": null,
       "text_color": null
      }
     },
     "f2b6d73c402d497eaa3b20c52b4d94e8": {
      "model_module": "@jupyter-widgets/controls",
      "model_module_version": "2.0.0",
      "model_name": "HTMLStyleModel",
      "state": {
       "description_width": "",
       "font_size": null,
       "text_color": null
      }
     },
     "f32bdaa89b954666994731ec1b44925e": {
      "model_module": "@jupyter-widgets/controls",
      "model_module_version": "2.0.0",
      "model_name": "HTMLModel",
      "state": {
       "layout": "IPY_MODEL_e2d933aa3bb74c4c9e048e0c6c36ccd8",
       "style": "IPY_MODEL_fdfbcdaab6e4442e923a77826abfe955",
       "value": "Movies from 2018: 100%"
      }
     },
     "f520ed9aebdb4f19b688b32d1a33995b": {
      "model_module": "@jupyter-widgets/base",
      "model_module_version": "2.0.0",
      "model_name": "LayoutModel",
      "state": {}
     },
     "f6e0b592d8e540b6be83e68b4fad6464": {
      "model_module": "@jupyter-widgets/controls",
      "model_module_version": "2.0.0",
      "model_name": "HTMLModel",
      "state": {
       "layout": "IPY_MODEL_e68266cf7a3e46629f9bd3c85cdd9951",
       "style": "IPY_MODEL_f218e8468b674c928c24f58d90c5c498",
       "value": "Movies from 2019: 100%"
      }
     },
     "f75d5ea9cf62459d83a31c6a6bbbbc08": {
      "model_module": "@jupyter-widgets/controls",
      "model_module_version": "2.0.0",
      "model_name": "HTMLModel",
      "state": {
       "layout": "IPY_MODEL_f00914c6512848d6a29d496fda20e2cb",
       "style": "IPY_MODEL_09202a72e1d14fe08a180de9e2cefaec",
       "value": "Movies from 2012: 100%"
      }
     },
     "f80aa8d2bc6344fe893e02349083acbd": {
      "model_module": "@jupyter-widgets/controls",
      "model_module_version": "2.0.0",
      "model_name": "HBoxModel",
      "state": {
       "children": [
        "IPY_MODEL_9462232871fa43afaaa6a43ba0aa6b10",
        "IPY_MODEL_89c74104286d40e29b83021286f82c87",
        "IPY_MODEL_cf773f20030649a1b09665fb4342fcb9"
       ],
       "layout": "IPY_MODEL_e389fc3f87ab40fa8455a7e0893c5f13"
      }
     },
     "f9608abb46be44e0aa5fa22c10570165": {
      "model_module": "@jupyter-widgets/controls",
      "model_module_version": "2.0.0",
      "model_name": "FloatProgressModel",
      "state": {
       "bar_style": "success",
       "layout": "IPY_MODEL_9c055ea708b54f20aaf46c62b479ac70",
       "max": 5058,
       "style": "IPY_MODEL_e1ae1a2bab994ac1a6fe1ca158404e98",
       "value": 5058
      }
     },
     "fa350a9a4d9f499d8ebe8fc669a9f840": {
      "model_module": "@jupyter-widgets/controls",
      "model_module_version": "2.0.0",
      "model_name": "HTMLModel",
      "state": {
       "layout": "IPY_MODEL_cb4264b27ff84e8d9826941fb58f1d16",
       "style": "IPY_MODEL_ad4a038553944404b2b8a71c1a878693",
       "value": " 5058/5058 [1:30:51&lt;00:00,  1.33it/s]"
      }
     },
     "fb8d2c5e3a694fc9b28163424172713c": {
      "model_module": "@jupyter-widgets/controls",
      "model_module_version": "2.0.0",
      "model_name": "FloatProgressModel",
      "state": {
       "bar_style": "success",
       "layout": "IPY_MODEL_883eee1402fc4aafade88b1cd99db585",
       "max": 5254,
       "style": "IPY_MODEL_1cf3c2026ad842fbb88007ed01e0a92c",
       "value": 5254
      }
     },
     "fd6b95879fc3481fb61154e41c84673f": {
      "model_module": "@jupyter-widgets/controls",
      "model_module_version": "2.0.0",
      "model_name": "ProgressStyleModel",
      "state": {
       "description_width": ""
      }
     },
     "fdfbcdaab6e4442e923a77826abfe955": {
      "model_module": "@jupyter-widgets/controls",
      "model_module_version": "2.0.0",
      "model_name": "HTMLStyleModel",
      "state": {
       "description_width": "",
       "font_size": null,
       "text_color": null
      }
     }
    },
    "version_major": 2,
    "version_minor": 0
   }
  }
 },
 "nbformat": 4,
 "nbformat_minor": 5
}
