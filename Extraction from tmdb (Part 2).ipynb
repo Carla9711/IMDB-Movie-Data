{
 "cells": [
  {
   "cell_type": "code",
   "execution_count": 1,
   "id": "1194c7f2-c030-4821-9033-3f8d685d4d0b",
   "metadata": {},
   "outputs": [],
   "source": [
    "import tmdbsimple as tmdb\n",
    "import os, time, json\n",
    "import pandas as pd\n",
    "import tmdbsimple as tmdb\n",
    "from tqdm import tqdm_notebook"
   ]
  },
  {
   "cell_type": "code",
   "execution_count": 2,
   "id": "d8383a7b-cd04-4973-a690-7032542d4fb5",
   "metadata": {},
   "outputs": [],
   "source": [
    "def get_movie_with_rating(movie_id):\n",
    "    \"\"\"Apapted from source= https://github.com/celiao/tmdbsimple\"\"\"\n",
    "    # get movie object for movie id\n",
    "    movie = tmdb.Movies(movie_id)\n",
    "\n",
    "    # save info and releases dictionaries\n",
    "    info = movie.info()\n",
    "    releases = movie.releases()\n",
    "\n",
    "    # loop through countries in releases dictionary\n",
    "    for c in releases['countries']:\n",
    "        # if country = US, create a certification key in info with the certification from releases\n",
    "        if c['iso_3166_1'] == 'US':\n",
    "\n",
    "            info['certification']=c['certification']\n",
    "    return info"
   ]
  },
  {
   "cell_type": "code",
   "execution_count": 3,
   "id": "4f688964-2e1d-4cb1-86c6-56984d6496d7",
   "metadata": {},
   "outputs": [],
   "source": [
    "def write_json(new_data, filename):\n",
    "    \"\"\"Appends a list of records (new_data) to a existing json file. \n",
    "    Adapted from: https://www.geeksforgeeks.org/append-to-json-file-using-python/\"\"\"\n",
    "\n",
    "    with open(filename,'r+') as file:\n",
    "        # load existing data into a dict\n",
    "        file_data = json.load(file)\n",
    "        # choose to extend or append new data based on data type\n",
    "        if (type(new_data)==list) & (type(file_data)==list):\n",
    "            file_data.extend(new_data)\n",
    "        else:\n",
    "            file_data.append(new_data)\n",
    "        # sets file's current position at offset\n",
    "        file.seek(0)\n",
    "        # convert file to json\n",
    "        json.dump(file_data, file)"
   ]
  },
  {
   "cell_type": "code",
   "execution_count": 4,
   "id": "9702b7b2-251b-46ac-8f22-e3b8f1bc1652",
   "metadata": {},
   "outputs": [
    {
     "data": {
      "text/plain": [
       "dict_keys(['api-key'])"
      ]
     },
     "execution_count": 4,
     "metadata": {},
     "output_type": "execute_result"
    }
   ],
   "source": [
    "# load API key from json fie\n",
    "with open('/Users/x471074/.secret/tmdb_api.json', 'r') as f:\n",
    "    login = json.load(f)\n",
    "login.keys()"
   ]
  },
  {
   "cell_type": "code",
   "execution_count": 5,
   "id": "5b2383e8-58b7-41eb-8347-d0882059d569",
   "metadata": {},
   "outputs": [],
   "source": [
    "tmdb.API_KEY =  login['api-key']"
   ]
  },
  {
   "cell_type": "code",
   "execution_count": 6,
   "id": "711af368-713a-47d1-b59b-807eb8864fdd",
   "metadata": {},
   "outputs": [
    {
     "data": {
      "text/plain": [
       "{'adult': False,\n",
       " 'backdrop_path': '/9BBTo63ANSmhC4e6r62OJFuK2GL.jpg',\n",
       " 'belongs_to_collection': {'id': 86311,\n",
       "  'name': 'The Avengers Collection',\n",
       "  'poster_path': '/yFSIUVTCvgYrpalUktulvk3Gi5Y.jpg',\n",
       "  'backdrop_path': '/zuW6fOiusv4X9nnW3paHGfXcSll.jpg'},\n",
       " 'budget': 220000000,\n",
       " 'genres': [{'id': 878, 'name': 'Science Fiction'},\n",
       "  {'id': 28, 'name': 'Action'},\n",
       "  {'id': 12, 'name': 'Adventure'}],\n",
       " 'homepage': 'https://www.marvel.com/movies/the-avengers',\n",
       " 'id': 24428,\n",
       " 'imdb_id': 'tt0848228',\n",
       " 'original_language': 'en',\n",
       " 'original_title': 'The Avengers',\n",
       " 'overview': 'When an unexpected enemy emerges and threatens global safety and security, Nick Fury, director of the international peacekeeping agency known as S.H.I.E.L.D., finds himself in need of a team to pull the world back from the brink of disaster. Spanning the globe, a daring recruitment effort begins!',\n",
       " 'popularity': 124.297,\n",
       " 'poster_path': '/RYMX2wcKCBAr24UyPD7xwmjaTn.jpg',\n",
       " 'production_companies': [{'id': 420,\n",
       "   'logo_path': '/hUzeosd33nzE5MCNsZxCGEKTXaQ.png',\n",
       "   'name': 'Marvel Studios',\n",
       "   'origin_country': 'US'}],\n",
       " 'production_countries': [{'iso_3166_1': 'US',\n",
       "   'name': 'United States of America'}],\n",
       " 'release_date': '2012-04-25',\n",
       " 'revenue': 1518815515,\n",
       " 'runtime': 143,\n",
       " 'spoken_languages': [{'english_name': 'English',\n",
       "   'iso_639_1': 'en',\n",
       "   'name': 'English'},\n",
       "  {'english_name': 'Hindi', 'iso_639_1': 'hi', 'name': 'हिन्दी'},\n",
       "  {'english_name': 'Russian', 'iso_639_1': 'ru', 'name': 'Pусский'}],\n",
       " 'status': 'Released',\n",
       " 'tagline': 'Some assembly required.',\n",
       " 'title': 'The Avengers',\n",
       " 'video': False,\n",
       " 'vote_average': 7.71,\n",
       " 'vote_count': 29274,\n",
       " 'certification': 'PG-13'}"
      ]
     },
     "execution_count": 6,
     "metadata": {},
     "output_type": "execute_result"
    }
   ],
   "source": [
    "# testing get_movie_rating function\n",
    "get_movie_with_rating(\"tt0848228\")"
   ]
  },
  {
   "cell_type": "code",
   "execution_count": 7,
   "id": "b7c4f8c5-5a6a-44b2-b360-419ac125eb9e",
   "metadata": {},
   "outputs": [
    {
     "data": {
      "text/plain": [
       "{'adult': False,\n",
       " 'backdrop_path': '/qom1SZSENdmHFNZBXbtJAU0WTlC.jpg',\n",
       " 'belongs_to_collection': None,\n",
       " 'budget': 29000000,\n",
       " 'genres': [{'id': 10749, 'name': 'Romance'}, {'id': 18, 'name': 'Drama'}],\n",
       " 'homepage': 'http://www.newline.com/properties/notebookthe.html',\n",
       " 'id': 11036,\n",
       " 'imdb_id': 'tt0332280',\n",
       " 'original_language': 'en',\n",
       " 'original_title': 'The Notebook',\n",
       " 'overview': \"An epic love story centered around an older man who reads aloud to a woman with Alzheimer's. From a faded notebook, the old man's words bring to life the story about a couple who is separated by World War II, and is then passionately reunited, seven years later, after they have taken different paths.\",\n",
       " 'popularity': 55.665,\n",
       " 'poster_path': '/rNzQyW4f8B8cQeg7Dgj3n6eT5k9.jpg',\n",
       " 'production_companies': [{'id': 12,\n",
       "   'logo_path': '/mevhneWSqbjU22D1MXNd4H9x0r0.png',\n",
       "   'name': 'New Line Cinema',\n",
       "   'origin_country': 'US'},\n",
       "  {'id': 1565, 'logo_path': None, 'name': 'Avery Pix', 'origin_country': 'US'},\n",
       "  {'id': 2605,\n",
       "   'logo_path': None,\n",
       "   'name': 'Gran Via Productions',\n",
       "   'origin_country': 'US'}],\n",
       " 'production_countries': [{'iso_3166_1': 'US',\n",
       "   'name': 'United States of America'}],\n",
       " 'release_date': '2004-06-25',\n",
       " 'revenue': 115603229,\n",
       " 'runtime': 123,\n",
       " 'spoken_languages': [{'english_name': 'English',\n",
       "   'iso_639_1': 'en',\n",
       "   'name': 'English'}],\n",
       " 'status': 'Released',\n",
       " 'tagline': 'Behind every great love is a great story.',\n",
       " 'title': 'The Notebook',\n",
       " 'video': False,\n",
       " 'vote_average': 7.88,\n",
       " 'vote_count': 10687,\n",
       " 'certification': 'PG-13'}"
      ]
     },
     "execution_count": 7,
     "metadata": {},
     "output_type": "execute_result"
    }
   ],
   "source": [
    "# testing get_movie_rating function\n",
    "get_movie_with_rating(\"tt0332280\")"
   ]
  },
  {
   "cell_type": "code",
   "execution_count": 8,
   "id": "92b22285-1dc4-4ba4-8245-1d86953efc4f",
   "metadata": {},
   "outputs": [
    {
     "data": {
      "text/plain": [
       "['final_tmdb_data_2000.csv.gz',\n",
       " 'final_tmdb_data_2001.csv.gz',\n",
       " 'title_akas.csv.gz',\n",
       " 'title_basics.csv.gz',\n",
       " 'title_ratings.csv.gz',\n",
       " 'tmdb_api_results_2000.json',\n",
       " 'tmdb_api_results_2001.json']"
      ]
     },
     "execution_count": 8,
     "metadata": {},
     "output_type": "execute_result"
    }
   ],
   "source": [
    "# specify folder to load data\n",
    "FOLDER = 'Data/'\n",
    "# create folder\n",
    "os.makedirs(FOLDER, exist_ok=True)\n",
    "# display files in folder\n",
    "os.listdir(FOLDER)"
   ]
  },
  {
   "cell_type": "code",
   "execution_count": 9,
   "id": "ed8f66b4-b769-43dd-ad7b-ec5d48c1cec8",
   "metadata": {},
   "outputs": [],
   "source": [
    "# load in the datafram from project part 1\n",
    "basics = pd.read_csv('Data/title_basics.csv.gz')"
   ]
  },
  {
   "cell_type": "code",
   "execution_count": 10,
   "id": "3000c492-c292-4d2b-ad12-aa3abcb1f6ea",
   "metadata": {},
   "outputs": [
    {
     "name": "stderr",
     "output_type": "stream",
     "text": [
      "C:\\Users\\x471074\\AppData\\Local\\Temp\\ipykernel_16620\\727502443.py:4: TqdmDeprecationWarning: This function will be removed in tqdm==5.0.0\n",
      "Please use `tqdm.notebook.tqdm` instead of `tqdm.tqdm_notebook`\n",
      "  for YEAR in tqdm_notebook(YEARS_TO_GET, desc='YEARS', position=0):\n"
     ]
    },
    {
     "data": {
      "application/vnd.jupyter.widget-view+json": {
       "model_id": "b43a88e356f04ab8b48377ff3f9601e4",
       "version_major": 2,
       "version_minor": 0
      },
      "text/plain": [
       "YEARS:   0%|          | 0/2 [00:00<?, ?it/s]"
      ]
     },
     "metadata": {},
     "output_type": "display_data"
    },
    {
     "name": "stderr",
     "output_type": "stream",
     "text": [
      "C:\\Users\\x471074\\AppData\\Local\\Temp\\ipykernel_16620\\727502443.py:27: TqdmDeprecationWarning: This function will be removed in tqdm==5.0.0\n",
      "Please use `tqdm.notebook.tqdm` instead of `tqdm.tqdm_notebook`\n",
      "  for movie_id in tqdm_notebook(movie_ids_to_get,\n"
     ]
    },
    {
     "data": {
      "application/vnd.jupyter.widget-view+json": {
       "model_id": "b14bc69a19d948bda19d4173e00dc24c",
       "version_major": 2,
       "version_minor": 0
      },
      "text/plain": [
       "Movies from 2000:   0%|          | 0/203 [00:00<?, ?it/s]"
      ]
     },
     "metadata": {},
     "output_type": "display_data"
    },
    {
     "name": "stderr",
     "output_type": "stream",
     "text": [
      "C:\\Users\\x471074\\AppData\\Local\\Temp\\ipykernel_16620\\727502443.py:27: TqdmDeprecationWarning: This function will be removed in tqdm==5.0.0\n",
      "Please use `tqdm.notebook.tqdm` instead of `tqdm.tqdm_notebook`\n",
      "  for movie_id in tqdm_notebook(movie_ids_to_get,\n"
     ]
    },
    {
     "data": {
      "application/vnd.jupyter.widget-view+json": {
       "model_id": "33ddd233ba5e42b9a4442869922723c5",
       "version_major": 2,
       "version_minor": 0
      },
      "text/plain": [
       "Movies from 2001:   0%|          | 0/223 [00:00<?, ?it/s]"
      ]
     },
     "metadata": {},
     "output_type": "display_data"
    },
    {
     "name": "stdout",
     "output_type": "stream",
     "text": [
      "-Total errors: 426\n"
     ]
    }
   ],
   "source": [
    "YEARS_TO_GET = [2000, 2001]\n",
    "errors = []\n",
    "\n",
    "for YEAR in tqdm_notebook(YEARS_TO_GET, desc='YEARS', position=0):\n",
    "    \n",
    "    # defining JSON file to store results for year\n",
    "    JSON_FILE = f'{FOLDER}tmdb_api_results_{YEAR}.json'\n",
    "    # check if file exists\n",
    "    file_exists = os.path.isfile(JSON_FILE)\n",
    "    \n",
    "    # if it does not exists: create it\n",
    "    if file_exists == False:\n",
    "    # save an empty dict with just 'imdb_id' to the new json file\n",
    "        with open(JSON_FILE,'w') as f:\n",
    "            json.dump([{'imdb_id':0}],f)\n",
    "        \n",
    "    # saving new year as the current df\n",
    "    df = basics.loc[basics['startYear']==YEAR].copy()\n",
    "    # saving movie_ids to list\n",
    "    movie_ids = df['tconst'].copy()\n",
    "    # load existsing data from json into dataframe \n",
    "    previous_df = pd.read_json(JSON_FILE)\n",
    "    # filter out any ids that are already in the JSON_FILE\n",
    "    movie_ids_to_get = movie_ids[~movie_ids.isin(previous_df['imdb_id'])]\n",
    "\n",
    "    # get movie id from list\n",
    "    for movie_id in tqdm_notebook(movie_ids_to_get,\n",
    "                                  desc=f'Movies from {YEAR}',\n",
    "                                  position=1,\n",
    "                                  leave=True):\n",
    "\n",
    "        try:\n",
    "            # retrieve the data for the movie id\n",
    "            temp = get_movie_with_rating(movie_id)\n",
    "            # append/extend results to existing file\n",
    "            write_json(temp,JSON_FILE)\n",
    "            # 20 ms sleep to avoid overwhelming the server\n",
    "            time.sleep(0.02)\n",
    "\n",
    "        # if there's errors, append to error list\n",
    "        except Exception as e:\n",
    "            errors.append([movie_id,e])\n",
    "    \n",
    "    # read json file\n",
    "    final_year_df = pd.read_json(JSON_FILE)\n",
    "    # save file to csv.gz\n",
    "    final_year_df.to_csv(f'{FOLDER}final_tmdb_data_{YEAR}.csv.gz',compression='gzip',index=False)\n",
    "\n",
    "# print errors\n",
    "print(f'-Total errors: {len(errors)}')"
   ]
  },
  {
   "cell_type": "code",
   "execution_count": null,
   "id": "9fa69eb0-7a3d-4cda-814f-79426f5161a5",
   "metadata": {},
   "outputs": [],
   "source": []
  }
 ],
 "metadata": {
  "kernelspec": {
   "display_name": "Python (dojo-env)",
   "language": "python",
   "name": "dojo-env"
  },
  "language_info": {
   "codemirror_mode": {
    "name": "ipython",
    "version": 3
   },
   "file_extension": ".py",
   "mimetype": "text/x-python",
   "name": "python",
   "nbconvert_exporter": "python",
   "pygments_lexer": "ipython3",
   "version": "3.10.10"
  },
  "widgets": {
   "application/vnd.jupyter.widget-state+json": {
    "state": {
     "02c4a3e5e46f4cc881125b64bd79c048": {
      "model_module": "@jupyter-widgets/controls",
      "model_module_version": "2.0.0",
      "model_name": "ProgressStyleModel",
      "state": {
       "description_width": ""
      }
     },
     "09505f8ee69d4c05a8838e15cbbb1f4e": {
      "model_module": "@jupyter-widgets/controls",
      "model_module_version": "2.0.0",
      "model_name": "ProgressStyleModel",
      "state": {
       "description_width": ""
      }
     },
     "2658063c64da466db0e307c240026e63": {
      "model_module": "@jupyter-widgets/controls",
      "model_module_version": "2.0.0",
      "model_name": "FloatProgressModel",
      "state": {
       "bar_style": "success",
       "layout": "IPY_MODEL_f152a941690e4a20b5612307ce44ef63",
       "max": 203,
       "style": "IPY_MODEL_acbf771eeb1b49269ee376cc9cf065c3",
       "value": 203
      }
     },
     "2ea7253efa1c49ad977c487d1baecd95": {
      "model_module": "@jupyter-widgets/controls",
      "model_module_version": "2.0.0",
      "model_name": "FloatProgressModel",
      "state": {
       "bar_style": "success",
       "layout": "IPY_MODEL_4f37678e6fc94f1993ed2551e71537f6",
       "max": 223,
       "style": "IPY_MODEL_02c4a3e5e46f4cc881125b64bd79c048",
       "value": 223
      }
     },
     "2f4a14de2f724c919c600c524899adf6": {
      "model_module": "@jupyter-widgets/controls",
      "model_module_version": "2.0.0",
      "model_name": "HTMLModel",
      "state": {
       "layout": "IPY_MODEL_6e72d549983549aab2ffe2d3dc35f9f8",
       "style": "IPY_MODEL_3aac0790650b443d999a85c238c99c3a",
       "value": " 203/203 [00:25&lt;00:00,  7.80it/s]"
      }
     },
     "30f75ae8bbd04cc79b3e100b5ce96479": {
      "model_module": "@jupyter-widgets/base",
      "model_module_version": "2.0.0",
      "model_name": "LayoutModel",
      "state": {}
     },
     "33ddd233ba5e42b9a4442869922723c5": {
      "model_module": "@jupyter-widgets/controls",
      "model_module_version": "2.0.0",
      "model_name": "HBoxModel",
      "state": {
       "children": [
        "IPY_MODEL_a8b1854954374882899f5a71cafa29f1",
        "IPY_MODEL_2ea7253efa1c49ad977c487d1baecd95",
        "IPY_MODEL_5d067c740b374e5e96a5008219ea7403"
       ],
       "layout": "IPY_MODEL_7870c64130f040bab388d1f2843c3216"
      }
     },
     "3aac0790650b443d999a85c238c99c3a": {
      "model_module": "@jupyter-widgets/controls",
      "model_module_version": "2.0.0",
      "model_name": "HTMLStyleModel",
      "state": {
       "description_width": "",
       "font_size": null,
       "text_color": null
      }
     },
     "4f37678e6fc94f1993ed2551e71537f6": {
      "model_module": "@jupyter-widgets/base",
      "model_module_version": "2.0.0",
      "model_name": "LayoutModel",
      "state": {}
     },
     "5577a40c0ae346e5bfa07477c600d86b": {
      "model_module": "@jupyter-widgets/controls",
      "model_module_version": "2.0.0",
      "model_name": "HTMLStyleModel",
      "state": {
       "description_width": "",
       "font_size": null,
       "text_color": null
      }
     },
     "5593a7a7b43a4b729ac1ea58de6502c5": {
      "model_module": "@jupyter-widgets/controls",
      "model_module_version": "2.0.0",
      "model_name": "HTMLStyleModel",
      "state": {
       "description_width": "",
       "font_size": null,
       "text_color": null
      }
     },
     "5d067c740b374e5e96a5008219ea7403": {
      "model_module": "@jupyter-widgets/controls",
      "model_module_version": "2.0.0",
      "model_name": "HTMLModel",
      "state": {
       "layout": "IPY_MODEL_8bf583ad342b48d5a828e7b8d9b3aab3",
       "style": "IPY_MODEL_fec5f1f6f6cb4e2eb1a44747db509d89",
       "value": " 223/223 [00:29&lt;00:00,  8.57it/s]"
      }
     },
     "60f6b716e6d74583aef04e63a771d5cd": {
      "model_module": "@jupyter-widgets/base",
      "model_module_version": "2.0.0",
      "model_name": "LayoutModel",
      "state": {}
     },
     "69d44b811e434fe29dba51d5504bcdcc": {
      "model_module": "@jupyter-widgets/controls",
      "model_module_version": "2.0.0",
      "model_name": "HTMLModel",
      "state": {
       "layout": "IPY_MODEL_b16dbf6b14034dd8b5f5cb425c929349",
       "style": "IPY_MODEL_bdbb16362f064d7b8a43e1da9aae0029",
       "value": "Movies from 2000: 100%"
      }
     },
     "6a7198349821425b8fa14ecbf341a5dd": {
      "model_module": "@jupyter-widgets/base",
      "model_module_version": "2.0.0",
      "model_name": "LayoutModel",
      "state": {}
     },
     "6e72d549983549aab2ffe2d3dc35f9f8": {
      "model_module": "@jupyter-widgets/base",
      "model_module_version": "2.0.0",
      "model_name": "LayoutModel",
      "state": {}
     },
     "7232079df08b406dbf280b27d70dc2f8": {
      "model_module": "@jupyter-widgets/controls",
      "model_module_version": "2.0.0",
      "model_name": "HTMLModel",
      "state": {
       "layout": "IPY_MODEL_30f75ae8bbd04cc79b3e100b5ce96479",
       "style": "IPY_MODEL_5593a7a7b43a4b729ac1ea58de6502c5",
       "value": "YEARS: 100%"
      }
     },
     "7870c64130f040bab388d1f2843c3216": {
      "model_module": "@jupyter-widgets/base",
      "model_module_version": "2.0.0",
      "model_name": "LayoutModel",
      "state": {}
     },
     "7ec496a2bdf14ba2aafec7d0eed6cba3": {
      "model_module": "@jupyter-widgets/controls",
      "model_module_version": "2.0.0",
      "model_name": "HTMLStyleModel",
      "state": {
       "description_width": "",
       "font_size": null,
       "text_color": null
      }
     },
     "80e6cd7f09a44bb48aa3284f514dc221": {
      "model_module": "@jupyter-widgets/base",
      "model_module_version": "2.0.0",
      "model_name": "LayoutModel",
      "state": {}
     },
     "8bf583ad342b48d5a828e7b8d9b3aab3": {
      "model_module": "@jupyter-widgets/base",
      "model_module_version": "2.0.0",
      "model_name": "LayoutModel",
      "state": {}
     },
     "955bfd3c82ce46d6aefb5f881f51aa26": {
      "model_module": "@jupyter-widgets/controls",
      "model_module_version": "2.0.0",
      "model_name": "HTMLModel",
      "state": {
       "layout": "IPY_MODEL_a9a83faef0914798a66e002395e6a8a8",
       "style": "IPY_MODEL_5577a40c0ae346e5bfa07477c600d86b",
       "value": " 2/2 [00:55&lt;00:00, 27.86s/it]"
      }
     },
     "a8b1854954374882899f5a71cafa29f1": {
      "model_module": "@jupyter-widgets/controls",
      "model_module_version": "2.0.0",
      "model_name": "HTMLModel",
      "state": {
       "layout": "IPY_MODEL_60f6b716e6d74583aef04e63a771d5cd",
       "style": "IPY_MODEL_7ec496a2bdf14ba2aafec7d0eed6cba3",
       "value": "Movies from 2001: 100%"
      }
     },
     "a9a83faef0914798a66e002395e6a8a8": {
      "model_module": "@jupyter-widgets/base",
      "model_module_version": "2.0.0",
      "model_name": "LayoutModel",
      "state": {}
     },
     "acbf771eeb1b49269ee376cc9cf065c3": {
      "model_module": "@jupyter-widgets/controls",
      "model_module_version": "2.0.0",
      "model_name": "ProgressStyleModel",
      "state": {
       "description_width": ""
      }
     },
     "b14bc69a19d948bda19d4173e00dc24c": {
      "model_module": "@jupyter-widgets/controls",
      "model_module_version": "2.0.0",
      "model_name": "HBoxModel",
      "state": {
       "children": [
        "IPY_MODEL_69d44b811e434fe29dba51d5504bcdcc",
        "IPY_MODEL_2658063c64da466db0e307c240026e63",
        "IPY_MODEL_2f4a14de2f724c919c600c524899adf6"
       ],
       "layout": "IPY_MODEL_80e6cd7f09a44bb48aa3284f514dc221"
      }
     },
     "b16dbf6b14034dd8b5f5cb425c929349": {
      "model_module": "@jupyter-widgets/base",
      "model_module_version": "2.0.0",
      "model_name": "LayoutModel",
      "state": {}
     },
     "b43a88e356f04ab8b48377ff3f9601e4": {
      "model_module": "@jupyter-widgets/controls",
      "model_module_version": "2.0.0",
      "model_name": "HBoxModel",
      "state": {
       "children": [
        "IPY_MODEL_7232079df08b406dbf280b27d70dc2f8",
        "IPY_MODEL_d66688d162334549b03ce31a96e33e09",
        "IPY_MODEL_955bfd3c82ce46d6aefb5f881f51aa26"
       ],
       "layout": "IPY_MODEL_fd3a1a81f73846c9b96a4fcc48dfab1d"
      }
     },
     "bdbb16362f064d7b8a43e1da9aae0029": {
      "model_module": "@jupyter-widgets/controls",
      "model_module_version": "2.0.0",
      "model_name": "HTMLStyleModel",
      "state": {
       "description_width": "",
       "font_size": null,
       "text_color": null
      }
     },
     "d66688d162334549b03ce31a96e33e09": {
      "model_module": "@jupyter-widgets/controls",
      "model_module_version": "2.0.0",
      "model_name": "FloatProgressModel",
      "state": {
       "bar_style": "success",
       "layout": "IPY_MODEL_6a7198349821425b8fa14ecbf341a5dd",
       "max": 2,
       "style": "IPY_MODEL_09505f8ee69d4c05a8838e15cbbb1f4e",
       "value": 2
      }
     },
     "f152a941690e4a20b5612307ce44ef63": {
      "model_module": "@jupyter-widgets/base",
      "model_module_version": "2.0.0",
      "model_name": "LayoutModel",
      "state": {}
     },
     "fd3a1a81f73846c9b96a4fcc48dfab1d": {
      "model_module": "@jupyter-widgets/base",
      "model_module_version": "2.0.0",
      "model_name": "LayoutModel",
      "state": {}
     },
     "fec5f1f6f6cb4e2eb1a44747db509d89": {
      "model_module": "@jupyter-widgets/controls",
      "model_module_version": "2.0.0",
      "model_name": "HTMLStyleModel",
      "state": {
       "description_width": "",
       "font_size": null,
       "text_color": null
      }
     }
    },
    "version_major": 2,
    "version_minor": 0
   }
  }
 },
 "nbformat": 4,
 "nbformat_minor": 5
}
