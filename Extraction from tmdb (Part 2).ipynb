{
 "cells": [
  {
   "cell_type": "code",
   "execution_count": 1,
   "id": "1194c7f2-c030-4821-9033-3f8d685d4d0b",
   "metadata": {},
   "outputs": [],
   "source": [
    "import tmdbsimple as tmdb\n",
    "import os, time, json\n",
    "import pandas as pd\n",
    "import tmdbsimple as tmdb\n",
    "from tqdm.notebook import tqdm_notebook"
   ]
  },
  {
   "cell_type": "markdown",
   "id": "4268f3f1-08d9-4866-a04b-cb9e012c3ea5",
   "metadata": {},
   "source": [
    "The code in this notebook was adapted from the following coding dojo lectures:\n",
    "1. [Intro to TMDB API](https://login.codingdojo.com/m/720/16250/120409)\n",
    "3. [Efficient TMDB API Calls](https://login.codingdojo.com/m/720/16250/120410)"
   ]
  },
  {
   "cell_type": "code",
   "execution_count": 2,
   "id": "d8383a7b-cd04-4973-a690-7032542d4fb5",
   "metadata": {},
   "outputs": [],
   "source": [
    "def get_movie_with_rating(movie_id):\n",
    "    \"\"\"Apapted from source= https://github.com/celiao/tmdbsimple\"\"\"\n",
    "    # get movie object for movie id\n",
    "    movie = tmdb.Movies(movie_id)\n",
    "\n",
    "    # save info and releases dictionaries\n",
    "    info = movie.info()\n",
    "    releases = movie.releases()\n",
    "\n",
    "    # loop through countries in releases dictionary\n",
    "    for c in releases['countries']:\n",
    "        # if country = US, create a certification key in info with the certification from releases\n",
    "        if c['iso_3166_1'] == 'US':\n",
    "\n",
    "            info['certification']=c['certification']\n",
    "    return info"
   ]
  },
  {
   "cell_type": "code",
   "execution_count": 3,
   "id": "4f688964-2e1d-4cb1-86c6-56984d6496d7",
   "metadata": {},
   "outputs": [],
   "source": [
    "def write_json(new_data, filename):\n",
    "    \"\"\"Appends a list of records (new_data) to a existing json file. \n",
    "    Adapted from: https://www.geeksforgeeks.org/append-to-json-file-using-python/\"\"\"\n",
    "\n",
    "    with open(filename,'r+') as file:\n",
    "        # load existing data into a dict\n",
    "        file_data = json.load(file)\n",
    "        # choose to extend or append new data based on data type\n",
    "        if (type(new_data)==list) & (type(file_data)==list):\n",
    "            file_data.extend(new_data)\n",
    "        else:\n",
    "            file_data.append(new_data)\n",
    "        # sets file's current position at offset\n",
    "        file.seek(0)\n",
    "        # convert file to json\n",
    "        json.dump(file_data, file)"
   ]
  },
  {
   "cell_type": "code",
   "execution_count": 4,
   "id": "9702b7b2-251b-46ac-8f22-e3b8f1bc1652",
   "metadata": {},
   "outputs": [
    {
     "data": {
      "text/plain": [
       "dict_keys(['api-key'])"
      ]
     },
     "execution_count": 4,
     "metadata": {},
     "output_type": "execute_result"
    }
   ],
   "source": [
    "# load API key from json fie\n",
    "with open('/Users/x471074/.secret/tmdb_api.json', 'r') as f:\n",
    "    login = json.load(f)\n",
    "login.keys()"
   ]
  },
  {
   "cell_type": "code",
   "execution_count": 5,
   "id": "5b2383e8-58b7-41eb-8347-d0882059d569",
   "metadata": {},
   "outputs": [],
   "source": [
    "tmdb.API_KEY =  login['api-key']"
   ]
  },
  {
   "cell_type": "code",
   "execution_count": 6,
   "id": "711af368-713a-47d1-b59b-807eb8864fdd",
   "metadata": {},
   "outputs": [
    {
     "data": {
      "text/plain": [
       "{'adult': False,\n",
       " 'backdrop_path': '/9BBTo63ANSmhC4e6r62OJFuK2GL.jpg',\n",
       " 'belongs_to_collection': {'id': 86311,\n",
       "  'name': 'The Avengers Collection',\n",
       "  'poster_path': '/yFSIUVTCvgYrpalUktulvk3Gi5Y.jpg',\n",
       "  'backdrop_path': '/zuW6fOiusv4X9nnW3paHGfXcSll.jpg'},\n",
       " 'budget': 220000000,\n",
       " 'genres': [{'id': 878, 'name': 'Science Fiction'},\n",
       "  {'id': 28, 'name': 'Action'},\n",
       "  {'id': 12, 'name': 'Adventure'}],\n",
       " 'homepage': 'https://www.marvel.com/movies/the-avengers',\n",
       " 'id': 24428,\n",
       " 'imdb_id': 'tt0848228',\n",
       " 'original_language': 'en',\n",
       " 'original_title': 'The Avengers',\n",
       " 'overview': 'When an unexpected enemy emerges and threatens global safety and security, Nick Fury, director of the international peacekeeping agency known as S.H.I.E.L.D., finds himself in need of a team to pull the world back from the brink of disaster. Spanning the globe, a daring recruitment effort begins!',\n",
       " 'popularity': 124.297,\n",
       " 'poster_path': '/RYMX2wcKCBAr24UyPD7xwmjaTn.jpg',\n",
       " 'production_companies': [{'id': 420,\n",
       "   'logo_path': '/hUzeosd33nzE5MCNsZxCGEKTXaQ.png',\n",
       "   'name': 'Marvel Studios',\n",
       "   'origin_country': 'US'}],\n",
       " 'production_countries': [{'iso_3166_1': 'US',\n",
       "   'name': 'United States of America'}],\n",
       " 'release_date': '2012-04-25',\n",
       " 'revenue': 1518815515,\n",
       " 'runtime': 143,\n",
       " 'spoken_languages': [{'english_name': 'English',\n",
       "   'iso_639_1': 'en',\n",
       "   'name': 'English'},\n",
       "  {'english_name': 'Hindi', 'iso_639_1': 'hi', 'name': 'हिन्दी'},\n",
       "  {'english_name': 'Russian', 'iso_639_1': 'ru', 'name': 'Pусский'}],\n",
       " 'status': 'Released',\n",
       " 'tagline': 'Some assembly required.',\n",
       " 'title': 'The Avengers',\n",
       " 'video': False,\n",
       " 'vote_average': 7.71,\n",
       " 'vote_count': 29274,\n",
       " 'certification': 'PG-13'}"
      ]
     },
     "execution_count": 6,
     "metadata": {},
     "output_type": "execute_result"
    }
   ],
   "source": [
    "# testing get_movie_rating function\n",
    "get_movie_with_rating(\"tt0848228\")"
   ]
  },
  {
   "cell_type": "code",
   "execution_count": 7,
   "id": "b7c4f8c5-5a6a-44b2-b360-419ac125eb9e",
   "metadata": {},
   "outputs": [
    {
     "data": {
      "text/plain": [
       "{'adult': False,\n",
       " 'backdrop_path': '/qom1SZSENdmHFNZBXbtJAU0WTlC.jpg',\n",
       " 'belongs_to_collection': None,\n",
       " 'budget': 29000000,\n",
       " 'genres': [{'id': 10749, 'name': 'Romance'}, {'id': 18, 'name': 'Drama'}],\n",
       " 'homepage': 'http://www.newline.com/properties/notebookthe.html',\n",
       " 'id': 11036,\n",
       " 'imdb_id': 'tt0332280',\n",
       " 'original_language': 'en',\n",
       " 'original_title': 'The Notebook',\n",
       " 'overview': \"An epic love story centered around an older man who reads aloud to a woman with Alzheimer's. From a faded notebook, the old man's words bring to life the story about a couple who is separated by World War II, and is then passionately reunited, seven years later, after they have taken different paths.\",\n",
       " 'popularity': 55.665,\n",
       " 'poster_path': '/rNzQyW4f8B8cQeg7Dgj3n6eT5k9.jpg',\n",
       " 'production_companies': [{'id': 12,\n",
       "   'logo_path': '/mevhneWSqbjU22D1MXNd4H9x0r0.png',\n",
       "   'name': 'New Line Cinema',\n",
       "   'origin_country': 'US'},\n",
       "  {'id': 1565, 'logo_path': None, 'name': 'Avery Pix', 'origin_country': 'US'},\n",
       "  {'id': 2605,\n",
       "   'logo_path': None,\n",
       "   'name': 'Gran Via Productions',\n",
       "   'origin_country': 'US'}],\n",
       " 'production_countries': [{'iso_3166_1': 'US',\n",
       "   'name': 'United States of America'}],\n",
       " 'release_date': '2004-06-25',\n",
       " 'revenue': 115603229,\n",
       " 'runtime': 123,\n",
       " 'spoken_languages': [{'english_name': 'English',\n",
       "   'iso_639_1': 'en',\n",
       "   'name': 'English'}],\n",
       " 'status': 'Released',\n",
       " 'tagline': 'Behind every great love is a great story.',\n",
       " 'title': 'The Notebook',\n",
       " 'video': False,\n",
       " 'vote_average': 7.88,\n",
       " 'vote_count': 10688,\n",
       " 'certification': 'PG-13'}"
      ]
     },
     "execution_count": 7,
     "metadata": {},
     "output_type": "execute_result"
    }
   ],
   "source": [
    "# testing get_movie_rating function\n",
    "get_movie_with_rating(\"tt0332280\")"
   ]
  },
  {
   "cell_type": "code",
   "execution_count": 8,
   "id": "92b22285-1dc4-4ba4-8245-1d86953efc4f",
   "metadata": {},
   "outputs": [
    {
     "data": {
      "text/plain": [
       "['final_tmdb_data_2000.csv.gz',\n",
       " 'final_tmdb_data_2001.csv.gz',\n",
       " 'title_akas.csv.gz',\n",
       " 'title_basics.csv.gz',\n",
       " 'title_ratings.csv.gz',\n",
       " 'tmdb_api_results_2000.json',\n",
       " 'tmdb_api_results_2001.json']"
      ]
     },
     "execution_count": 8,
     "metadata": {},
     "output_type": "execute_result"
    }
   ],
   "source": [
    "# specify folder to load data\n",
    "FOLDER = 'Data/'\n",
    "# create folder\n",
    "os.makedirs(FOLDER, exist_ok=True)\n",
    "# display files in folder\n",
    "os.listdir(FOLDER)"
   ]
  },
  {
   "cell_type": "code",
   "execution_count": 9,
   "id": "ed8f66b4-b769-43dd-ad7b-ec5d48c1cec8",
   "metadata": {},
   "outputs": [],
   "source": [
    "# load in the datafram from project part 1\n",
    "basics = pd.read_csv('Data/title_basics.csv.gz')"
   ]
  },
  {
   "cell_type": "code",
   "execution_count": 11,
   "id": "3000c492-c292-4d2b-ad12-aa3abcb1f6ea",
   "metadata": {},
   "outputs": [
    {
     "data": {
      "application/vnd.jupyter.widget-view+json": {
       "model_id": "c470ba3e8d1443cebce186739a5b7d74",
       "version_major": 2,
       "version_minor": 0
      },
      "text/plain": [
       "YEARS:   0%|          | 0/2 [00:00<?, ?it/s]"
      ]
     },
     "metadata": {},
     "output_type": "display_data"
    },
    {
     "data": {
      "application/vnd.jupyter.widget-view+json": {
       "model_id": "45b4a190327d4c7c9f0abaf7e805c1bd",
       "version_major": 2,
       "version_minor": 0
      },
      "text/plain": [
       "Movies from 2000:   0%|          | 0/203 [00:00<?, ?it/s]"
      ]
     },
     "metadata": {},
     "output_type": "display_data"
    },
    {
     "data": {
      "application/vnd.jupyter.widget-view+json": {
       "model_id": "b42a498a3fe64b9fa8d7faf69c65740b",
       "version_major": 2,
       "version_minor": 0
      },
      "text/plain": [
       "Movies from 2001:   0%|          | 0/223 [00:00<?, ?it/s]"
      ]
     },
     "metadata": {},
     "output_type": "display_data"
    },
    {
     "name": "stdout",
     "output_type": "stream",
     "text": [
      "-Total errors: 426\n"
     ]
    }
   ],
   "source": [
    "YEARS_TO_GET = [2000, 2001]\n",
    "errors = []\n",
    "\n",
    "for YEAR in tqdm_notebook(YEARS_TO_GET, desc='YEARS', position=0):\n",
    "    \n",
    "    # defining JSON file to store results for year\n",
    "    JSON_FILE = f'{FOLDER}tmdb_api_results_{YEAR}.json'\n",
    "    # check if file exists\n",
    "    file_exists = os.path.isfile(JSON_FILE)\n",
    "    \n",
    "    # if it does not exists: create it\n",
    "    if file_exists == False:\n",
    "    # save an empty dict with just 'imdb_id' to the new json file\n",
    "        with open(JSON_FILE,'w') as f:\n",
    "            json.dump([{'imdb_id':0}],f)\n",
    "        \n",
    "    # saving new year as the current df\n",
    "    df = basics.loc[basics['startYear']==YEAR].copy()\n",
    "    # saving movie_ids to list\n",
    "    movie_ids = df['tconst'].copy()\n",
    "    # load existsing data from json into dataframe \n",
    "    previous_df = pd.read_json(JSON_FILE)\n",
    "    # filter out any ids that are already in the JSON_FILE\n",
    "    movie_ids_to_get = movie_ids[~movie_ids.isin(previous_df['imdb_id'])]\n",
    "\n",
    "    # get movie id from list\n",
    "    for movie_id in tqdm_notebook(movie_ids_to_get,\n",
    "                                  desc=f'Movies from {YEAR}',\n",
    "                                  position=1,\n",
    "                                  leave=True):\n",
    "\n",
    "        try:\n",
    "            # retrieve the data for the movie id\n",
    "            temp = get_movie_with_rating(movie_id)\n",
    "            # append/extend results to existing file\n",
    "            write_json(temp,JSON_FILE)\n",
    "            # 20 ms sleep to avoid overwhelming the server\n",
    "            time.sleep(0.02)\n",
    "\n",
    "        # if there's errors, append to error list\n",
    "        except Exception as e:\n",
    "            errors.append([movie_id,e])\n",
    "    \n",
    "    # read json file\n",
    "    final_year_df = pd.read_json(JSON_FILE)\n",
    "    # save file to csv.gz\n",
    "    final_year_df.to_csv(f'{FOLDER}final_tmdb_data_{YEAR}.csv.gz',compression='gzip',index=False)\n",
    "\n",
    "# print errors\n",
    "print(f'-Total errors: {len(errors)}')"
   ]
  },
  {
   "cell_type": "code",
   "execution_count": null,
   "id": "9fa69eb0-7a3d-4cda-814f-79426f5161a5",
   "metadata": {},
   "outputs": [],
   "source": []
  }
 ],
 "metadata": {
  "kernelspec": {
   "display_name": "Python (dojo-env)",
   "language": "python",
   "name": "dojo-env"
  },
  "language_info": {
   "codemirror_mode": {
    "name": "ipython",
    "version": 3
   },
   "file_extension": ".py",
   "mimetype": "text/x-python",
   "name": "python",
   "nbconvert_exporter": "python",
   "pygments_lexer": "ipython3",
   "version": "3.10.10"
  },
  "widgets": {
   "application/vnd.jupyter.widget-state+json": {
    "state": {
     "0d711b3858cc4783811ee4233f8d4a85": {
      "model_module": "@jupyter-widgets/base",
      "model_module_version": "2.0.0",
      "model_name": "LayoutModel",
      "state": {}
     },
     "122b953b62834a149f5c9b36718534aa": {
      "model_module": "@jupyter-widgets/controls",
      "model_module_version": "2.0.0",
      "model_name": "HTMLModel",
      "state": {
       "layout": "IPY_MODEL_7a818faa068f400985dc658539b35415",
       "style": "IPY_MODEL_b450fe82053044fc802f167131aef452",
       "value": "YEARS:   0%"
      }
     },
     "12bc017a2edb448a8bee28fafcc01e1a": {
      "model_module": "@jupyter-widgets/controls",
      "model_module_version": "2.0.0",
      "model_name": "ProgressStyleModel",
      "state": {
       "description_width": ""
      }
     },
     "1379df44bc444c65bfa2de2d08e2a4dd": {
      "model_module": "@jupyter-widgets/controls",
      "model_module_version": "2.0.0",
      "model_name": "ProgressStyleModel",
      "state": {
       "description_width": ""
      }
     },
     "19c47a484dd74050bc2b9a77562f1a82": {
      "model_module": "@jupyter-widgets/controls",
      "model_module_version": "2.0.0",
      "model_name": "HTMLStyleModel",
      "state": {
       "description_width": "",
       "font_size": null,
       "text_color": null
      }
     },
     "264b92f9458e4b4997a202b86905e255": {
      "model_module": "@jupyter-widgets/base",
      "model_module_version": "2.0.0",
      "model_name": "LayoutModel",
      "state": {}
     },
     "33e03a52b1314996b32ef4e20a7fee68": {
      "model_module": "@jupyter-widgets/controls",
      "model_module_version": "2.0.0",
      "model_name": "FloatProgressModel",
      "state": {
       "bar_style": "success",
       "layout": "IPY_MODEL_62c9542b3526407cbe261dfcc9a0b6fc",
       "max": 2,
       "style": "IPY_MODEL_71278f37b8444acbb737b3479008a58e",
       "value": 2
      }
     },
     "34de3dcbd15c4684a59cf421bb4e97b5": {
      "model_module": "@jupyter-widgets/controls",
      "model_module_version": "2.0.0",
      "model_name": "HTMLStyleModel",
      "state": {
       "description_width": "",
       "font_size": null,
       "text_color": null
      }
     },
     "3a74252ea4e94eddb6df06009fea0c75": {
      "model_module": "@jupyter-widgets/base",
      "model_module_version": "2.0.0",
      "model_name": "LayoutModel",
      "state": {}
     },
     "45b4a190327d4c7c9f0abaf7e805c1bd": {
      "model_module": "@jupyter-widgets/controls",
      "model_module_version": "2.0.0",
      "model_name": "HBoxModel",
      "state": {
       "children": [
        "IPY_MODEL_59664389fe3a4e849f3fcce0d61cbd1e",
        "IPY_MODEL_ecfa5c3af84e429995fb17ea38cc1165",
        "IPY_MODEL_aca260c02fd34042b2353936919e5bdc"
       ],
       "layout": "IPY_MODEL_f373482f9dcf49b2a91d7c24eedf75c4"
      }
     },
     "480c18fc89f64f88b5400a687c1644fc": {
      "model_module": "@jupyter-widgets/controls",
      "model_module_version": "2.0.0",
      "model_name": "HTMLStyleModel",
      "state": {
       "description_width": "",
       "font_size": null,
       "text_color": null
      }
     },
     "59664389fe3a4e849f3fcce0d61cbd1e": {
      "model_module": "@jupyter-widgets/controls",
      "model_module_version": "2.0.0",
      "model_name": "HTMLModel",
      "state": {
       "layout": "IPY_MODEL_abd08e9fe3c54176b52fef16e0cd2c47",
       "style": "IPY_MODEL_b559bc68d8a443bf87b85b7d1d07dd60",
       "value": "Movies from 2000: 100%"
      }
     },
     "62c9542b3526407cbe261dfcc9a0b6fc": {
      "model_module": "@jupyter-widgets/base",
      "model_module_version": "2.0.0",
      "model_name": "LayoutModel",
      "state": {}
     },
     "63a5562d7be94c6485aa3788638488d1": {
      "model_module": "@jupyter-widgets/base",
      "model_module_version": "2.0.0",
      "model_name": "LayoutModel",
      "state": {}
     },
     "63bbcfce655f4b9ebfb5797b8663713d": {
      "model_module": "@jupyter-widgets/base",
      "model_module_version": "2.0.0",
      "model_name": "LayoutModel",
      "state": {}
     },
     "6fe0ac130399495f91ac563501f55050": {
      "model_module": "@jupyter-widgets/controls",
      "model_module_version": "2.0.0",
      "model_name": "FloatProgressModel",
      "state": {
       "bar_style": "success",
       "layout": "IPY_MODEL_d722f0ad06d44e6e89a4266a1f72f999",
       "max": 223,
       "style": "IPY_MODEL_12bc017a2edb448a8bee28fafcc01e1a",
       "value": 223
      }
     },
     "71278f37b8444acbb737b3479008a58e": {
      "model_module": "@jupyter-widgets/controls",
      "model_module_version": "2.0.0",
      "model_name": "ProgressStyleModel",
      "state": {
       "description_width": ""
      }
     },
     "7395a1a33586416a8da817291a079a6f": {
      "model_module": "@jupyter-widgets/controls",
      "model_module_version": "2.0.0",
      "model_name": "HBoxModel",
      "state": {
       "children": [
        "IPY_MODEL_122b953b62834a149f5c9b36718534aa",
        "IPY_MODEL_e21e0f89880a44bdb4621dc682d08891",
        "IPY_MODEL_cd919a912a9a4022a39226939b5707c4"
       ],
       "layout": "IPY_MODEL_0d711b3858cc4783811ee4233f8d4a85"
      }
     },
     "79c03073be17424b995f0b5f38b43359": {
      "model_module": "@jupyter-widgets/controls",
      "model_module_version": "2.0.0",
      "model_name": "HTMLModel",
      "state": {
       "layout": "IPY_MODEL_63a5562d7be94c6485aa3788638488d1",
       "style": "IPY_MODEL_d0436dd60d51452d9f8bbb9cbc110c2a",
       "value": "YEARS: 100%"
      }
     },
     "7a818faa068f400985dc658539b35415": {
      "model_module": "@jupyter-widgets/base",
      "model_module_version": "2.0.0",
      "model_name": "LayoutModel",
      "state": {}
     },
     "7cd0b0ec726e4a6d9dad918156c9c807": {
      "model_module": "@jupyter-widgets/base",
      "model_module_version": "2.0.0",
      "model_name": "LayoutModel",
      "state": {}
     },
     "7f42c35eca244103a6cd18041ebf24b0": {
      "model_module": "@jupyter-widgets/controls",
      "model_module_version": "2.0.0",
      "model_name": "HTMLModel",
      "state": {
       "layout": "IPY_MODEL_63bbcfce655f4b9ebfb5797b8663713d",
       "style": "IPY_MODEL_19c47a484dd74050bc2b9a77562f1a82",
       "value": " 223/223 [00:31&lt;00:00,  5.27it/s]"
      }
     },
     "922027dccf3f4828b000011b3ccb731b": {
      "model_module": "@jupyter-widgets/controls",
      "model_module_version": "2.0.0",
      "model_name": "HTMLStyleModel",
      "state": {
       "description_width": "",
       "font_size": null,
       "text_color": null
      }
     },
     "abd08e9fe3c54176b52fef16e0cd2c47": {
      "model_module": "@jupyter-widgets/base",
      "model_module_version": "2.0.0",
      "model_name": "LayoutModel",
      "state": {}
     },
     "aca260c02fd34042b2353936919e5bdc": {
      "model_module": "@jupyter-widgets/controls",
      "model_module_version": "2.0.0",
      "model_name": "HTMLModel",
      "state": {
       "layout": "IPY_MODEL_f96efab7802642be9dce64a714f06e8f",
       "style": "IPY_MODEL_c64989004a8c47369c778589f09ceda8",
       "value": " 203/203 [00:26&lt;00:00,  8.23it/s]"
      }
     },
     "afa4ecda391e43f6ab5eee550dc387e9": {
      "model_module": "@jupyter-widgets/base",
      "model_module_version": "2.0.0",
      "model_name": "LayoutModel",
      "state": {}
     },
     "b0f02f1b34864cd6ad8ca11c96083b84": {
      "model_module": "@jupyter-widgets/base",
      "model_module_version": "2.0.0",
      "model_name": "LayoutModel",
      "state": {}
     },
     "b42a498a3fe64b9fa8d7faf69c65740b": {
      "model_module": "@jupyter-widgets/controls",
      "model_module_version": "2.0.0",
      "model_name": "HBoxModel",
      "state": {
       "children": [
        "IPY_MODEL_b83df2b29a3a40ffb36a25e5fba7d40e",
        "IPY_MODEL_6fe0ac130399495f91ac563501f55050",
        "IPY_MODEL_7f42c35eca244103a6cd18041ebf24b0"
       ],
       "layout": "IPY_MODEL_afa4ecda391e43f6ab5eee550dc387e9"
      }
     },
     "b450fe82053044fc802f167131aef452": {
      "model_module": "@jupyter-widgets/controls",
      "model_module_version": "2.0.0",
      "model_name": "HTMLStyleModel",
      "state": {
       "description_width": "",
       "font_size": null,
       "text_color": null
      }
     },
     "b559bc68d8a443bf87b85b7d1d07dd60": {
      "model_module": "@jupyter-widgets/controls",
      "model_module_version": "2.0.0",
      "model_name": "HTMLStyleModel",
      "state": {
       "description_width": "",
       "font_size": null,
       "text_color": null
      }
     },
     "b83df2b29a3a40ffb36a25e5fba7d40e": {
      "model_module": "@jupyter-widgets/controls",
      "model_module_version": "2.0.0",
      "model_name": "HTMLModel",
      "state": {
       "layout": "IPY_MODEL_d4e8e9e0d979434faa10395cd6d3f71b",
       "style": "IPY_MODEL_922027dccf3f4828b000011b3ccb731b",
       "value": "Movies from 2001: 100%"
      }
     },
     "b9446c6b21974691a3460a2f38965cf9": {
      "model_module": "@jupyter-widgets/base",
      "model_module_version": "2.0.0",
      "model_name": "LayoutModel",
      "state": {}
     },
     "bb6ce996cb6f4ca9b62ce8ec0c9c0bc1": {
      "model_module": "@jupyter-widgets/controls",
      "model_module_version": "2.0.0",
      "model_name": "ProgressStyleModel",
      "state": {
       "description_width": ""
      }
     },
     "c4692118392d4ad3af1490439ae6c216": {
      "model_module": "@jupyter-widgets/controls",
      "model_module_version": "2.0.0",
      "model_name": "HTMLModel",
      "state": {
       "layout": "IPY_MODEL_264b92f9458e4b4997a202b86905e255",
       "style": "IPY_MODEL_34de3dcbd15c4684a59cf421bb4e97b5",
       "value": " 2/2 [00:58&lt;00:00, 29.86s/it]"
      }
     },
     "c470ba3e8d1443cebce186739a5b7d74": {
      "model_module": "@jupyter-widgets/controls",
      "model_module_version": "2.0.0",
      "model_name": "HBoxModel",
      "state": {
       "children": [
        "IPY_MODEL_79c03073be17424b995f0b5f38b43359",
        "IPY_MODEL_33e03a52b1314996b32ef4e20a7fee68",
        "IPY_MODEL_c4692118392d4ad3af1490439ae6c216"
       ],
       "layout": "IPY_MODEL_7cd0b0ec726e4a6d9dad918156c9c807"
      }
     },
     "c64989004a8c47369c778589f09ceda8": {
      "model_module": "@jupyter-widgets/controls",
      "model_module_version": "2.0.0",
      "model_name": "HTMLStyleModel",
      "state": {
       "description_width": "",
       "font_size": null,
       "text_color": null
      }
     },
     "cd919a912a9a4022a39226939b5707c4": {
      "model_module": "@jupyter-widgets/controls",
      "model_module_version": "2.0.0",
      "model_name": "HTMLModel",
      "state": {
       "layout": "IPY_MODEL_3a74252ea4e94eddb6df06009fea0c75",
       "style": "IPY_MODEL_480c18fc89f64f88b5400a687c1644fc",
       "value": " 0/2 [00:00&lt;?, ?it/s]"
      }
     },
     "d0436dd60d51452d9f8bbb9cbc110c2a": {
      "model_module": "@jupyter-widgets/controls",
      "model_module_version": "2.0.0",
      "model_name": "HTMLStyleModel",
      "state": {
       "description_width": "",
       "font_size": null,
       "text_color": null
      }
     },
     "d4e8e9e0d979434faa10395cd6d3f71b": {
      "model_module": "@jupyter-widgets/base",
      "model_module_version": "2.0.0",
      "model_name": "LayoutModel",
      "state": {}
     },
     "d722f0ad06d44e6e89a4266a1f72f999": {
      "model_module": "@jupyter-widgets/base",
      "model_module_version": "2.0.0",
      "model_name": "LayoutModel",
      "state": {}
     },
     "e21e0f89880a44bdb4621dc682d08891": {
      "model_module": "@jupyter-widgets/controls",
      "model_module_version": "2.0.0",
      "model_name": "FloatProgressModel",
      "state": {
       "bar_style": "danger",
       "layout": "IPY_MODEL_b0f02f1b34864cd6ad8ca11c96083b84",
       "max": 2,
       "style": "IPY_MODEL_1379df44bc444c65bfa2de2d08e2a4dd"
      }
     },
     "ecfa5c3af84e429995fb17ea38cc1165": {
      "model_module": "@jupyter-widgets/controls",
      "model_module_version": "2.0.0",
      "model_name": "FloatProgressModel",
      "state": {
       "bar_style": "success",
       "layout": "IPY_MODEL_b9446c6b21974691a3460a2f38965cf9",
       "max": 203,
       "style": "IPY_MODEL_bb6ce996cb6f4ca9b62ce8ec0c9c0bc1",
       "value": 203
      }
     },
     "f373482f9dcf49b2a91d7c24eedf75c4": {
      "model_module": "@jupyter-widgets/base",
      "model_module_version": "2.0.0",
      "model_name": "LayoutModel",
      "state": {}
     },
     "f96efab7802642be9dce64a714f06e8f": {
      "model_module": "@jupyter-widgets/base",
      "model_module_version": "2.0.0",
      "model_name": "LayoutModel",
      "state": {}
     }
    },
    "version_major": 2,
    "version_minor": 0
   }
  }
 },
 "nbformat": 4,
 "nbformat_minor": 5
}
