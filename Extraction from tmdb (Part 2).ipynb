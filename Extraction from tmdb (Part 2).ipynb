{
 "cells": [
  {
   "cell_type": "code",
   "execution_count": 31,
   "id": "1194c7f2-c030-4821-9033-3f8d685d4d0b",
   "metadata": {},
   "outputs": [],
   "source": [
    "import tmdbsimple as tmdb\n",
    "import os, time, json\n",
    "import pandas as pd\n",
    "import tmdbsimple as tmdb\n",
    "from tqdm import tqdm_notebook"
   ]
  },
  {
   "cell_type": "code",
   "execution_count": 32,
   "id": "d8383a7b-cd04-4973-a690-7032542d4fb5",
   "metadata": {},
   "outputs": [],
   "source": [
    "def get_movie_with_rating(movie_id):\n",
    "    \"\"\"Apapted from source= https://github.com/celiao/tmdbsimple\"\"\"\n",
    "    # get movie object for movie id\n",
    "    movie = tmdb.Movies(movie_id)\n",
    "\n",
    "    # save info and releases dictionaries\n",
    "    info = movie.info()\n",
    "    releases = movie.releases()\n",
    "\n",
    "    # loop through countries in releases dictionary\n",
    "    for c in releases['countries']:\n",
    "        # if country = US, create a certification key in info with the certification from releases\n",
    "        if c['iso_3166_1'] == 'US':\n",
    "\n",
    "            info['certification']=c['certification']\n",
    "    return info"
   ]
  },
  {
   "cell_type": "code",
   "execution_count": 33,
   "id": "4f688964-2e1d-4cb1-86c6-56984d6496d7",
   "metadata": {},
   "outputs": [],
   "source": [
    "def write_json(new_data, filename):\n",
    "    \"\"\"Appends a list of records (new_data) to a existing json file. \n",
    "    Adapted from: https://www.geeksforgeeks.org/append-to-json-file-using-python/\"\"\"\n",
    "\n",
    "    with open(filename,'r+') as file:\n",
    "        # load existing data into a dict\n",
    "        file_data = json.load(file)\n",
    "        # choose to extend or append new data based on data type\n",
    "        if (type(new_data)==list) & (type(file_data)==list):\n",
    "            file_data.extend(new_data)\n",
    "        else:\n",
    "            file_data.append(new_data)\n",
    "        # sets file's current position at offset\n",
    "        file.seek(0)\n",
    "        # convert file to json\n",
    "        json.dump(file_data, file)"
   ]
  },
  {
   "cell_type": "code",
   "execution_count": 34,
   "id": "9702b7b2-251b-46ac-8f22-e3b8f1bc1652",
   "metadata": {},
   "outputs": [
    {
     "data": {
      "text/plain": [
       "dict_keys(['api-key'])"
      ]
     },
     "execution_count": 34,
     "metadata": {},
     "output_type": "execute_result"
    }
   ],
   "source": [
    "# load API key from json fie\n",
    "with open('/Users/x471074/.secret/tmdb_api.json', 'r') as f:\n",
    "    login = json.load(f)\n",
    "login.keys()"
   ]
  },
  {
   "cell_type": "code",
   "execution_count": 35,
   "id": "5b2383e8-58b7-41eb-8347-d0882059d569",
   "metadata": {},
   "outputs": [],
   "source": [
    "tmdb.API_KEY =  login['api-key']"
   ]
  },
  {
   "cell_type": "code",
   "execution_count": 36,
   "id": "711af368-713a-47d1-b59b-807eb8864fdd",
   "metadata": {},
   "outputs": [
    {
     "data": {
      "text/plain": [
       "{'adult': False,\n",
       " 'backdrop_path': '/9BBTo63ANSmhC4e6r62OJFuK2GL.jpg',\n",
       " 'belongs_to_collection': {'id': 86311,\n",
       "  'name': 'The Avengers Collection',\n",
       "  'poster_path': '/yFSIUVTCvgYrpalUktulvk3Gi5Y.jpg',\n",
       "  'backdrop_path': '/zuW6fOiusv4X9nnW3paHGfXcSll.jpg'},\n",
       " 'budget': 220000000,\n",
       " 'genres': [{'id': 878, 'name': 'Science Fiction'},\n",
       "  {'id': 28, 'name': 'Action'},\n",
       "  {'id': 12, 'name': 'Adventure'}],\n",
       " 'homepage': 'https://www.marvel.com/movies/the-avengers',\n",
       " 'id': 24428,\n",
       " 'imdb_id': 'tt0848228',\n",
       " 'original_language': 'en',\n",
       " 'original_title': 'The Avengers',\n",
       " 'overview': 'When an unexpected enemy emerges and threatens global safety and security, Nick Fury, director of the international peacekeeping agency known as S.H.I.E.L.D., finds himself in need of a team to pull the world back from the brink of disaster. Spanning the globe, a daring recruitment effort begins!',\n",
       " 'popularity': 128.625,\n",
       " 'poster_path': '/RYMX2wcKCBAr24UyPD7xwmjaTn.jpg',\n",
       " 'production_companies': [{'id': 420,\n",
       "   'logo_path': '/hUzeosd33nzE5MCNsZxCGEKTXaQ.png',\n",
       "   'name': 'Marvel Studios',\n",
       "   'origin_country': 'US'}],\n",
       " 'production_countries': [{'iso_3166_1': 'US',\n",
       "   'name': 'United States of America'}],\n",
       " 'release_date': '2012-04-25',\n",
       " 'revenue': 1518815515,\n",
       " 'runtime': 143,\n",
       " 'spoken_languages': [{'english_name': 'English',\n",
       "   'iso_639_1': 'en',\n",
       "   'name': 'English'},\n",
       "  {'english_name': 'Hindi', 'iso_639_1': 'hi', 'name': 'हिन्दी'},\n",
       "  {'english_name': 'Russian', 'iso_639_1': 'ru', 'name': 'Pусский'}],\n",
       " 'status': 'Released',\n",
       " 'tagline': 'Some assembly required.',\n",
       " 'title': 'The Avengers',\n",
       " 'video': False,\n",
       " 'vote_average': 7.71,\n",
       " 'vote_count': 29270,\n",
       " 'certification': 'PG-13'}"
      ]
     },
     "execution_count": 36,
     "metadata": {},
     "output_type": "execute_result"
    }
   ],
   "source": [
    "# testing get_movie_rating function\n",
    "get_movie_with_rating(\"tt0848228\")"
   ]
  },
  {
   "cell_type": "code",
   "execution_count": 37,
   "id": "b7c4f8c5-5a6a-44b2-b360-419ac125eb9e",
   "metadata": {},
   "outputs": [
    {
     "data": {
      "text/plain": [
       "{'adult': False,\n",
       " 'backdrop_path': '/qom1SZSENdmHFNZBXbtJAU0WTlC.jpg',\n",
       " 'belongs_to_collection': None,\n",
       " 'budget': 29000000,\n",
       " 'genres': [{'id': 10749, 'name': 'Romance'}, {'id': 18, 'name': 'Drama'}],\n",
       " 'homepage': 'http://www.newline.com/properties/notebookthe.html',\n",
       " 'id': 11036,\n",
       " 'imdb_id': 'tt0332280',\n",
       " 'original_language': 'en',\n",
       " 'original_title': 'The Notebook',\n",
       " 'overview': \"An epic love story centered around an older man who reads aloud to a woman with Alzheimer's. From a faded notebook, the old man's words bring to life the story about a couple who is separated by World War II, and is then passionately reunited, seven years later, after they have taken different paths.\",\n",
       " 'popularity': 56.096,\n",
       " 'poster_path': '/rNzQyW4f8B8cQeg7Dgj3n6eT5k9.jpg',\n",
       " 'production_companies': [{'id': 12,\n",
       "   'logo_path': '/mevhneWSqbjU22D1MXNd4H9x0r0.png',\n",
       "   'name': 'New Line Cinema',\n",
       "   'origin_country': 'US'},\n",
       "  {'id': 1565, 'logo_path': None, 'name': 'Avery Pix', 'origin_country': 'US'},\n",
       "  {'id': 2605,\n",
       "   'logo_path': None,\n",
       "   'name': 'Gran Via Productions',\n",
       "   'origin_country': 'US'}],\n",
       " 'production_countries': [{'iso_3166_1': 'US',\n",
       "   'name': 'United States of America'}],\n",
       " 'release_date': '2004-06-25',\n",
       " 'revenue': 115603229,\n",
       " 'runtime': 123,\n",
       " 'spoken_languages': [{'english_name': 'English',\n",
       "   'iso_639_1': 'en',\n",
       "   'name': 'English'}],\n",
       " 'status': 'Released',\n",
       " 'tagline': 'Behind every great love is a great story.',\n",
       " 'title': 'The Notebook',\n",
       " 'video': False,\n",
       " 'vote_average': 7.88,\n",
       " 'vote_count': 10687,\n",
       " 'certification': 'PG-13'}"
      ]
     },
     "execution_count": 37,
     "metadata": {},
     "output_type": "execute_result"
    }
   ],
   "source": [
    "get_movie_with_rating(\"tt0332280\")"
   ]
  },
  {
   "cell_type": "code",
   "execution_count": 38,
   "id": "92b22285-1dc4-4ba4-8245-1d86953efc4f",
   "metadata": {},
   "outputs": [
    {
     "data": {
      "text/plain": [
       "['title_akas.csv.gz', 'title_basics.csv.gz', 'title_ratings.csv.gz']"
      ]
     },
     "execution_count": 38,
     "metadata": {},
     "output_type": "execute_result"
    }
   ],
   "source": [
    "# specify folder to load data\n",
    "FOLDER = 'Data/'\n",
    "# create folder\n",
    "os.makedirs(FOLDER, exist_ok=True)\n",
    "# display files in folder\n",
    "os.listdir(FOLDER)"
   ]
  },
  {
   "cell_type": "code",
   "execution_count": 39,
   "id": "ed8f66b4-b769-43dd-ad7b-ec5d48c1cec8",
   "metadata": {},
   "outputs": [],
   "source": [
    "# load in the datafram from project part 1\n",
    "basics = pd.read_csv('Data/title_basics.csv.gz')"
   ]
  },
  {
   "cell_type": "code",
   "execution_count": 40,
   "id": "3000c492-c292-4d2b-ad12-aa3abcb1f6ea",
   "metadata": {},
   "outputs": [
    {
     "name": "stderr",
     "output_type": "stream",
     "text": [
      "C:\\Users\\x471074\\AppData\\Local\\Temp\\ipykernel_7720\\727502443.py:4: TqdmDeprecationWarning: This function will be removed in tqdm==5.0.0\n",
      "Please use `tqdm.notebook.tqdm` instead of `tqdm.tqdm_notebook`\n",
      "  for YEAR in tqdm_notebook(YEARS_TO_GET, desc='YEARS', position=0):\n"
     ]
    },
    {
     "data": {
      "application/vnd.jupyter.widget-view+json": {
       "model_id": "47a6ba5f00b542e3b634405524a90ffc",
       "version_major": 2,
       "version_minor": 0
      },
      "text/plain": [
       "YEARS:   0%|          | 0/2 [00:00<?, ?it/s]"
      ]
     },
     "metadata": {},
     "output_type": "display_data"
    },
    {
     "name": "stderr",
     "output_type": "stream",
     "text": [
      "C:\\Users\\x471074\\AppData\\Local\\Temp\\ipykernel_7720\\727502443.py:27: TqdmDeprecationWarning: This function will be removed in tqdm==5.0.0\n",
      "Please use `tqdm.notebook.tqdm` instead of `tqdm.tqdm_notebook`\n",
      "  for movie_id in tqdm_notebook(movie_ids_to_get,\n"
     ]
    },
    {
     "data": {
      "application/vnd.jupyter.widget-view+json": {
       "model_id": "88a3fd8ff28f48948593504c22135428",
       "version_major": 2,
       "version_minor": 0
      },
      "text/plain": [
       "Movies from 2000:   0%|          | 0/1462 [00:00<?, ?it/s]"
      ]
     },
     "metadata": {},
     "output_type": "display_data"
    },
    {
     "name": "stderr",
     "output_type": "stream",
     "text": [
      "C:\\Users\\x471074\\AppData\\Local\\Temp\\ipykernel_7720\\727502443.py:27: TqdmDeprecationWarning: This function will be removed in tqdm==5.0.0\n",
      "Please use `tqdm.notebook.tqdm` instead of `tqdm.tqdm_notebook`\n",
      "  for movie_id in tqdm_notebook(movie_ids_to_get,\n"
     ]
    },
    {
     "data": {
      "application/vnd.jupyter.widget-view+json": {
       "model_id": "dcdec807df264783b220a3d95d97b746",
       "version_major": 2,
       "version_minor": 0
      },
      "text/plain": [
       "Movies from 2001:   0%|          | 0/1585 [00:00<?, ?it/s]"
      ]
     },
     "metadata": {},
     "output_type": "display_data"
    },
    {
     "name": "stdout",
     "output_type": "stream",
     "text": [
      "-Total errors: 426\n"
     ]
    }
   ],
   "source": [
    "YEARS_TO_GET = [2000, 2001]\n",
    "errors = []\n",
    "\n",
    "for YEAR in tqdm_notebook(YEARS_TO_GET, desc='YEARS', position=0):\n",
    "    \n",
    "    # defining JSON file to store results for year\n",
    "    JSON_FILE = f'{FOLDER}tmdb_api_results_{YEAR}.json'\n",
    "    # check if file exists\n",
    "    file_exists = os.path.isfile(JSON_FILE)\n",
    "    \n",
    "    # if it does not exists: create it\n",
    "    if file_exists == False:\n",
    "    # save an empty dict with just 'imdb_id' to the new json file\n",
    "        with open(JSON_FILE,'w') as f:\n",
    "            json.dump([{'imdb_id':0}],f)\n",
    "        \n",
    "    # saving new year as the current df\n",
    "    df = basics.loc[basics['startYear']==YEAR].copy()\n",
    "    # saving movie_ids to list\n",
    "    movie_ids = df['tconst'].copy()\n",
    "    # load existsing data from json into dataframe \n",
    "    previous_df = pd.read_json(JSON_FILE)\n",
    "    # filter out any ids that are already in the JSON_FILE\n",
    "    movie_ids_to_get = movie_ids[~movie_ids.isin(previous_df['imdb_id'])]\n",
    "\n",
    "    # get movie id from list\n",
    "    for movie_id in tqdm_notebook(movie_ids_to_get,\n",
    "                                  desc=f'Movies from {YEAR}',\n",
    "                                  position=1,\n",
    "                                  leave=True):\n",
    "\n",
    "        try:\n",
    "            # retrieve the data for the movie id\n",
    "            temp = get_movie_with_rating(movie_id)\n",
    "            # append/extend results to existing file\n",
    "            write_json(temp,JSON_FILE)\n",
    "            # 20 ms sleep to avoid overwhelming the server\n",
    "            time.sleep(0.02)\n",
    "\n",
    "        # if there's errors, append to error list\n",
    "        except Exception as e:\n",
    "            errors.append([movie_id,e])\n",
    "    \n",
    "    # read json file\n",
    "    final_year_df = pd.read_json(JSON_FILE)\n",
    "    # save file to csv.gz\n",
    "    final_year_df.to_csv(f'{FOLDER}final_tmdb_data_{YEAR}.csv.gz',compression='gzip',index=False)\n",
    "\n",
    "# print errors\n",
    "print(f'-Total errors: {len(errors)}')"
   ]
  },
  {
   "cell_type": "code",
   "execution_count": null,
   "id": "9fa69eb0-7a3d-4cda-814f-79426f5161a5",
   "metadata": {},
   "outputs": [],
   "source": []
  }
 ],
 "metadata": {
  "kernelspec": {
   "display_name": "Python (dojo-env)",
   "language": "python",
   "name": "dojo-env"
  },
  "language_info": {
   "codemirror_mode": {
    "name": "ipython",
    "version": 3
   },
   "file_extension": ".py",
   "mimetype": "text/x-python",
   "name": "python",
   "nbconvert_exporter": "python",
   "pygments_lexer": "ipython3",
   "version": "3.10.10"
  },
  "widgets": {
   "application/vnd.jupyter.widget-state+json": {
    "state": {
     "055db307599c408997c6cdbd5b504436": {
      "model_module": "@jupyter-widgets/controls",
      "model_module_version": "2.0.0",
      "model_name": "HTMLStyleModel",
      "state": {
       "description_width": "",
       "font_size": null,
       "text_color": null
      }
     },
     "0914cd9da83d4ecd952d358327b71edb": {
      "model_module": "@jupyter-widgets/base",
      "model_module_version": "2.0.0",
      "model_name": "LayoutModel",
      "state": {}
     },
     "0ac8976955654e6e85861c604061a35a": {
      "model_module": "@jupyter-widgets/controls",
      "model_module_version": "2.0.0",
      "model_name": "HTMLModel",
      "state": {
       "layout": "IPY_MODEL_b82a5cba9907481098231a5eae4fd013",
       "style": "IPY_MODEL_af62a41840014b4f9dfd19d3598a7596",
       "value": "Movies from 2000: 100%"
      }
     },
     "1194d7ab0c284598b79fc326e0e15d6c": {
      "model_module": "@jupyter-widgets/controls",
      "model_module_version": "2.0.0",
      "model_name": "HTMLModel",
      "state": {
       "layout": "IPY_MODEL_8a752ad7ad274e62b031ed4bf636c1d7",
       "style": "IPY_MODEL_278952edb6b0461eb188af6f59732dfc",
       "value": " 2/2 [44:40&lt;00:00, 1355.02s/it]"
      }
     },
     "13be5e52939c490eb7973c7c45eb7a8d": {
      "model_module": "@jupyter-widgets/controls",
      "model_module_version": "2.0.0",
      "model_name": "ProgressStyleModel",
      "state": {
       "description_width": ""
      }
     },
     "14bdd8365a7d479ab5f72b4d9ea04875": {
      "model_module": "@jupyter-widgets/base",
      "model_module_version": "2.0.0",
      "model_name": "LayoutModel",
      "state": {}
     },
     "1628527f65a3416ea996870ce3afd49e": {
      "model_module": "@jupyter-widgets/controls",
      "model_module_version": "2.0.0",
      "model_name": "FloatProgressModel",
      "state": {
       "bar_style": "success",
       "layout": "IPY_MODEL_14bdd8365a7d479ab5f72b4d9ea04875",
       "max": 1585,
       "style": "IPY_MODEL_e4d3bb04aacd43ca900dc259431c89d5",
       "value": 1585
      }
     },
     "278952edb6b0461eb188af6f59732dfc": {
      "model_module": "@jupyter-widgets/controls",
      "model_module_version": "2.0.0",
      "model_name": "HTMLStyleModel",
      "state": {
       "description_width": "",
       "font_size": null,
       "text_color": null
      }
     },
     "2fe30dfeb05c4afb9da860018422b0b7": {
      "model_module": "@jupyter-widgets/controls",
      "model_module_version": "2.0.0",
      "model_name": "HTMLStyleModel",
      "state": {
       "description_width": "",
       "font_size": null,
       "text_color": null
      }
     },
     "333fdaa27a7d4db4841aebc12e906883": {
      "model_module": "@jupyter-widgets/controls",
      "model_module_version": "2.0.0",
      "model_name": "HTMLStyleModel",
      "state": {
       "description_width": "",
       "font_size": null,
       "text_color": null
      }
     },
     "3ae6728790294da5b098cd24677abb04": {
      "model_module": "@jupyter-widgets/controls",
      "model_module_version": "2.0.0",
      "model_name": "HTMLModel",
      "state": {
       "layout": "IPY_MODEL_7ad6c833b8554cd1a5ffc5da30be570d",
       "style": "IPY_MODEL_333fdaa27a7d4db4841aebc12e906883",
       "value": " 1462/1462 [20:55&lt;00:00,  2.52it/s]"
      }
     },
     "3e567d127e8a42208e9dabf9c5efe911": {
      "model_module": "@jupyter-widgets/controls",
      "model_module_version": "2.0.0",
      "model_name": "ProgressStyleModel",
      "state": {
       "description_width": ""
      }
     },
     "4297083aefb4476d81bbcd79cedc044e": {
      "model_module": "@jupyter-widgets/base",
      "model_module_version": "2.0.0",
      "model_name": "LayoutModel",
      "state": {}
     },
     "47a6ba5f00b542e3b634405524a90ffc": {
      "model_module": "@jupyter-widgets/controls",
      "model_module_version": "2.0.0",
      "model_name": "HBoxModel",
      "state": {
       "children": [
        "IPY_MODEL_ad765e68e04e44099bde7cf8fc745079",
        "IPY_MODEL_ad72b43f18c84392be4579800191ce17",
        "IPY_MODEL_1194d7ab0c284598b79fc326e0e15d6c"
       ],
       "layout": "IPY_MODEL_4297083aefb4476d81bbcd79cedc044e"
      }
     },
     "67461f8b53eb4e8eba90c46a476026b7": {
      "model_module": "@jupyter-widgets/controls",
      "model_module_version": "2.0.0",
      "model_name": "HTMLStyleModel",
      "state": {
       "description_width": "",
       "font_size": null,
       "text_color": null
      }
     },
     "6a0d1cad419f4ffd9d9a9c52d61ac6a5": {
      "model_module": "@jupyter-widgets/base",
      "model_module_version": "2.0.0",
      "model_name": "LayoutModel",
      "state": {}
     },
     "7ad6c833b8554cd1a5ffc5da30be570d": {
      "model_module": "@jupyter-widgets/base",
      "model_module_version": "2.0.0",
      "model_name": "LayoutModel",
      "state": {}
     },
     "88a3fd8ff28f48948593504c22135428": {
      "model_module": "@jupyter-widgets/controls",
      "model_module_version": "2.0.0",
      "model_name": "HBoxModel",
      "state": {
       "children": [
        "IPY_MODEL_0ac8976955654e6e85861c604061a35a",
        "IPY_MODEL_a0b7b37557b2451ca7ec61bcdb7c28c7",
        "IPY_MODEL_3ae6728790294da5b098cd24677abb04"
       ],
       "layout": "IPY_MODEL_adca3af68bef4b05bbb15a63be403bb4"
      }
     },
     "8a752ad7ad274e62b031ed4bf636c1d7": {
      "model_module": "@jupyter-widgets/base",
      "model_module_version": "2.0.0",
      "model_name": "LayoutModel",
      "state": {}
     },
     "9faf18c212c24e4082f7e57c567b6e2c": {
      "model_module": "@jupyter-widgets/base",
      "model_module_version": "2.0.0",
      "model_name": "LayoutModel",
      "state": {}
     },
     "a0b7b37557b2451ca7ec61bcdb7c28c7": {
      "model_module": "@jupyter-widgets/controls",
      "model_module_version": "2.0.0",
      "model_name": "FloatProgressModel",
      "state": {
       "bar_style": "success",
       "layout": "IPY_MODEL_0914cd9da83d4ecd952d358327b71edb",
       "max": 1462,
       "style": "IPY_MODEL_13be5e52939c490eb7973c7c45eb7a8d",
       "value": 1462
      }
     },
     "a715e925f327407eb2cc042bc56a2f0d": {
      "model_module": "@jupyter-widgets/controls",
      "model_module_version": "2.0.0",
      "model_name": "HTMLModel",
      "state": {
       "layout": "IPY_MODEL_6a0d1cad419f4ffd9d9a9c52d61ac6a5",
       "style": "IPY_MODEL_2fe30dfeb05c4afb9da860018422b0b7",
       "value": "Movies from 2001: 100%"
      }
     },
     "ac1908c7dac149dd95a198bcc6dd8b39": {
      "model_module": "@jupyter-widgets/base",
      "model_module_version": "2.0.0",
      "model_name": "LayoutModel",
      "state": {}
     },
     "ad72b43f18c84392be4579800191ce17": {
      "model_module": "@jupyter-widgets/controls",
      "model_module_version": "2.0.0",
      "model_name": "FloatProgressModel",
      "state": {
       "bar_style": "success",
       "layout": "IPY_MODEL_ac1908c7dac149dd95a198bcc6dd8b39",
       "max": 2,
       "style": "IPY_MODEL_3e567d127e8a42208e9dabf9c5efe911",
       "value": 2
      }
     },
     "ad765e68e04e44099bde7cf8fc745079": {
      "model_module": "@jupyter-widgets/controls",
      "model_module_version": "2.0.0",
      "model_name": "HTMLModel",
      "state": {
       "layout": "IPY_MODEL_c68f0e78f6f54d31b0e880dc8f51b427",
       "style": "IPY_MODEL_67461f8b53eb4e8eba90c46a476026b7",
       "value": "YEARS: 100%"
      }
     },
     "adca3af68bef4b05bbb15a63be403bb4": {
      "model_module": "@jupyter-widgets/base",
      "model_module_version": "2.0.0",
      "model_name": "LayoutModel",
      "state": {}
     },
     "af62a41840014b4f9dfd19d3598a7596": {
      "model_module": "@jupyter-widgets/controls",
      "model_module_version": "2.0.0",
      "model_name": "HTMLStyleModel",
      "state": {
       "description_width": "",
       "font_size": null,
       "text_color": null
      }
     },
     "b82a5cba9907481098231a5eae4fd013": {
      "model_module": "@jupyter-widgets/base",
      "model_module_version": "2.0.0",
      "model_name": "LayoutModel",
      "state": {}
     },
     "b86e91994bce4a208c8ecc79630f818b": {
      "model_module": "@jupyter-widgets/controls",
      "model_module_version": "2.0.0",
      "model_name": "HTMLModel",
      "state": {
       "layout": "IPY_MODEL_d15d1397e5254e8fbc52e2fcb59b09e7",
       "style": "IPY_MODEL_055db307599c408997c6cdbd5b504436",
       "value": " 1585/1585 [23:44&lt;00:00,  1.90it/s]"
      }
     },
     "c68f0e78f6f54d31b0e880dc8f51b427": {
      "model_module": "@jupyter-widgets/base",
      "model_module_version": "2.0.0",
      "model_name": "LayoutModel",
      "state": {}
     },
     "d15d1397e5254e8fbc52e2fcb59b09e7": {
      "model_module": "@jupyter-widgets/base",
      "model_module_version": "2.0.0",
      "model_name": "LayoutModel",
      "state": {}
     },
     "dcdec807df264783b220a3d95d97b746": {
      "model_module": "@jupyter-widgets/controls",
      "model_module_version": "2.0.0",
      "model_name": "HBoxModel",
      "state": {
       "children": [
        "IPY_MODEL_a715e925f327407eb2cc042bc56a2f0d",
        "IPY_MODEL_1628527f65a3416ea996870ce3afd49e",
        "IPY_MODEL_b86e91994bce4a208c8ecc79630f818b"
       ],
       "layout": "IPY_MODEL_9faf18c212c24e4082f7e57c567b6e2c"
      }
     },
     "e4d3bb04aacd43ca900dc259431c89d5": {
      "model_module": "@jupyter-widgets/controls",
      "model_module_version": "2.0.0",
      "model_name": "ProgressStyleModel",
      "state": {
       "description_width": ""
      }
     }
    },
    "version_major": 2,
    "version_minor": 0
   }
  }
 },
 "nbformat": 4,
 "nbformat_minor": 5
}
